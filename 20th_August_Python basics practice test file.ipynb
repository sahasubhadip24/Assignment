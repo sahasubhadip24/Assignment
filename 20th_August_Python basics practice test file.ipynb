{
 "cells": [
  {
   "cell_type": "markdown",
   "id": "3f68a53e-feef-4d44-b682-eec777f8a7e1",
   "metadata": {
    "tags": []
   },
   "source": [
    "## String Based Assignment Problem :"
   ]
  },
  {
   "cell_type": "markdown",
   "id": "831222ce-a066-4336-a5f9-62443c2c88a3",
   "metadata": {},
   "source": [
    "1. Write a program to reverse a string."
   ]
  },
  {
   "cell_type": "code",
   "execution_count": null,
   "id": "7a73c969-8322-4f08-a2a8-b4aa805b90d3",
   "metadata": {},
   "outputs": [],
   "source": [
    "input_string = input(\"Enter a string :\") # Taking a string as input\n",
    "reverse_string = input_string[::-1] # Reversing the string \n",
    "print(reverse_string) # Printing the reversed string"
   ]
  },
  {
   "cell_type": "markdown",
   "id": "e55fcf25-670a-4371-87b9-f8d5f122787e",
   "metadata": {},
   "source": [
    "2. Check if a string is a palindrome."
   ]
  },
  {
   "cell_type": "code",
   "execution_count": null,
   "id": "1a1d1a87-1368-4dd1-b96e-1fbc73e9fced",
   "metadata": {},
   "outputs": [],
   "source": [
    "input_string = input(\"Enter a string :\") # Taking a string as input\n",
    "lower_string = input_string.lower() # Converting the input string to lower case\n",
    "modified_string = \"\"\n",
    "for i in lower_string:\n",
    "    if i.isalnum():\n",
    "        modified_string += i # Removing spaces and punctuation from the string\n",
    "reverse_string = modified_string[::-1]\n",
    "if modified_string == reverse_string: # Checking if the string is palindrome or not\n",
    "    print(\"The string is palindrome\")\n",
    "else:\n",
    "    print(\"The string is not palindrome\")"
   ]
  },
  {
   "cell_type": "markdown",
   "id": "c2dc2897-1fe1-44e9-ad7b-88bf642dfce5",
   "metadata": {},
   "source": [
    "3. Convert a string to uppercase."
   ]
  },
  {
   "cell_type": "code",
   "execution_count": null,
   "id": "89d62cfb-8345-48a1-bb9b-dcb5abbcbcc6",
   "metadata": {},
   "outputs": [],
   "source": [
    "input_string = input(\"Enter a string :\") # Taking a string as input\n",
    "uppercase_string = input_string.upper() # Converting it to uppercase\n",
    "print(\"Uppercase string is :\", uppercase_string) # Printing the uppercase string"
   ]
  },
  {
   "cell_type": "markdown",
   "id": "dd5acd90-f8b7-43e1-bc61-0d76307f2c8c",
   "metadata": {},
   "source": [
    "4. Convert a string to lowercase."
   ]
  },
  {
   "cell_type": "code",
   "execution_count": null,
   "id": "d3567330-2291-417d-b36f-eed17c773c10",
   "metadata": {},
   "outputs": [],
   "source": [
    "input_string = input(\"Enter a string :\") # Taking a string as input\n",
    "lowercase_string = input_string.lower() # Converting it to lowercase\n",
    "print(\"Lowercase string is :\", lowercase_string) # Printing the lowercase string"
   ]
  },
  {
   "cell_type": "markdown",
   "id": "da864019-7bd9-4009-9d61-095abf7e0a7a",
   "metadata": {},
   "source": [
    "5. Count the number of vowels in a string."
   ]
  },
  {
   "cell_type": "code",
   "execution_count": null,
   "id": "0d0a380b-272e-4c69-8037-8c5dfc102486",
   "metadata": {},
   "outputs": [],
   "source": [
    "input_string = input(\"Enter a string :\") # Taking a string as input\n",
    "modified_string = input_string.lower() # Converting it to lowercase\n",
    "vowels = 'a','e','i','o','u' # Initializing the vowels\n",
    "count = 0 # Initializing count variable with 0\n",
    "for i in modified_string: \n",
    "    if i in vowels: # Checking the character is vowel or not\n",
    "        count += 1 # Increasing the count variable with 1 if the character is vowel\n",
    "print(\"Number of vowels in the string is :\", count) # Printing the number of vowels in the string"
   ]
  },
  {
   "cell_type": "markdown",
   "id": "12f6a68c-9239-4d11-b356-dd94dd306edb",
   "metadata": {},
   "source": [
    "6. Count the number of consonants in a string."
   ]
  },
  {
   "cell_type": "code",
   "execution_count": null,
   "id": "4123cdfc-7048-4705-b459-38a577922040",
   "metadata": {},
   "outputs": [],
   "source": [
    "input_string = input(\"Enter a string :\") # Taking a string as input\n",
    "modified_string = input_string.lower() # Converting it to lowercase\n",
    "consonant = \"bcdfghjklmnpqrstvwxyz\" # Initializing the consonants\n",
    "count = 0 # Initializing count variable with 0\n",
    "for i in modified_string: \n",
    "    if i in consonant: # Checking the character is consonant or not\n",
    "        count += 1 # Increasing the count variable with 1 if the character is consonant \n",
    "print(\"Number of consonants in the string is :\", count) # Printing the number of consonants in the string"
   ]
  },
  {
   "cell_type": "markdown",
   "id": "12013f04-501b-439b-8b38-43660f03f655",
   "metadata": {},
   "source": [
    "7. Remove all whitespaces from a string."
   ]
  },
  {
   "cell_type": "code",
   "execution_count": null,
   "id": "9f5b71a3-f94a-4ebe-bd33-03c53a849236",
   "metadata": {},
   "outputs": [],
   "source": [
    "input_string = input(\"Enter a string :\") # Taking a string as input\n",
    "modified_string = \"\" # Initializing an empty string\n",
    "for i in input_string:\n",
    "    if i != \" \": # Checking if the character is whitespace or not\n",
    "        modified_string += i # If the character is not whitespace then adding it to the result string\n",
    "print(modified_string) # Printing the result string after removing all whitespaces"
   ]
  },
  {
   "cell_type": "markdown",
   "id": "21e9de06-3864-4420-9721-bd317e9dfa2e",
   "metadata": {},
   "source": [
    "8. Find the length of a string without using the `len()` function."
   ]
  },
  {
   "cell_type": "code",
   "execution_count": null,
   "id": "001df62a-7f4f-4c0f-ad32-473744ee1dee",
   "metadata": {},
   "outputs": [],
   "source": [
    "input_string = input(\"Enter a string :\") # Taking a string as input\n",
    "count = 0 # Initializing the count variable with 0\n",
    "for i in input_string:\n",
    "    count += 1 # For each iteration adding 1 to the count variable\n",
    "print (\"The length of the string is :\", count) # Printing the length of the string"
   ]
  },
  {
   "cell_type": "markdown",
   "id": "6255db4a-542f-476c-8397-ad87b7a1f3a3",
   "metadata": {},
   "source": [
    "9. Check if a string contains a specific word."
   ]
  },
  {
   "cell_type": "code",
   "execution_count": null,
   "id": "8d50a666-5ced-4a3d-8011-1f9e7804b391",
   "metadata": {},
   "outputs": [],
   "source": [
    "input_string = input(\"Enter a string :\") # Taking a string as input\n",
    "specific_word = input(\"Enter a specific word :\") # Taking a specific word as input \n",
    "if specific_word in input_string: # Checking if the specific word present in the string or not\n",
    "    print(\"The string contains the specific word\") # Printing the result\n",
    "else:\n",
    "    print(\"The string does not contain the specific word\")"
   ]
  },
  {
   "cell_type": "markdown",
   "id": "5081e9e1-1dde-4628-996a-00d299aed2ba",
   "metadata": {},
   "source": [
    "10. Replace a word in a string with another word."
   ]
  },
  {
   "cell_type": "code",
   "execution_count": null,
   "id": "5b46b0f3-1c8c-4eee-85da-dbc7ff21f63d",
   "metadata": {},
   "outputs": [],
   "source": [
    "input_string = input(\"Enter a string :\") # Taking a string as input\n",
    "first_word = input(\"Enter a word you want to replace :\") # Taking the word which is going to be replaced \n",
    "another_word = input(\"Enter a new word :\") # Taking the new word\n",
    "modified_string = input_string.replace(first_word, another_word) # Replacing the old word with the new word\n",
    "print(\"The string after replacing the new word is :\", modified_string) # Printing the string after replacing the word"
   ]
  },
  {
   "cell_type": "markdown",
   "id": "0c04a9f8-7304-4a66-9d3c-1d136c14cd3a",
   "metadata": {},
   "source": [
    "11. Count the occurrences of a word in a string."
   ]
  },
  {
   "cell_type": "code",
   "execution_count": null,
   "id": "fff58440-6f8e-4ea1-8e8d-ae61c470e305",
   "metadata": {},
   "outputs": [],
   "source": [
    "input_string = input(\"Enter a string :\") # Taking a string as input\n",
    "input_word = input(\"Enter a word :\") # Taking the specific word \n",
    "modified_string = input_string.split() # Splitting the words of the string\n",
    "count = 0 # Initializing count variable with 0\n",
    "for i in modified_string: \n",
    "    if i == input_word: # Checking if the word is matching with the specific word or not \n",
    "        count += 1 # If the word matches then adding 1 to the count variable\n",
    "print(\"The occurrences of the word in the string is :\", count) # Printing the occurrences of the word in the string"
   ]
  },
  {
   "cell_type": "markdown",
   "id": "0290693b-8bb1-4895-9315-2ad2432d7445",
   "metadata": {},
   "source": [
    "12. Find the first occurrence of a word in a string."
   ]
  },
  {
   "cell_type": "code",
   "execution_count": null,
   "id": "d0dafa16-626a-4c6a-b7d7-b59f8b344b0c",
   "metadata": {},
   "outputs": [],
   "source": [
    "input_string = input(\"Enter a string :\") # Taking a string as input\n",
    "input_word = input(\"Enter a word :\") # Taking the specific word\n",
    "index = input_string.find(input_word) # Checking the first occurrence of the word\n",
    "print(\"Index of the first occurance of the word is :\", index) # Printing the index of the first occurrence of the word"
   ]
  },
  {
   "cell_type": "markdown",
   "id": "1f1f5cae-03e8-467f-88da-0c395144360b",
   "metadata": {},
   "source": [
    "13. Find the last occurrence of a word in a string."
   ]
  },
  {
   "cell_type": "code",
   "execution_count": null,
   "id": "59e1cffc-7527-440c-b65f-e813b3f6325d",
   "metadata": {},
   "outputs": [],
   "source": [
    "input_string = input(\"Enter a string :\") # Taking a string as input\n",
    "input_word = input(\"Enter a word :\") # Taking the specific word\n",
    "index = input_string.rfind(input_word) # Checking the last occurrence of the word\n",
    "print(\"Index of the last occurance of the word is :\", index) # Printing the index of the last occurrence of the word"
   ]
  },
  {
   "cell_type": "markdown",
   "id": "ba758cac-a83b-47f9-b736-6596680428a9",
   "metadata": {},
   "source": [
    "14. Split a string into a list of words."
   ]
  },
  {
   "cell_type": "code",
   "execution_count": null,
   "id": "7013138e-71b9-44ee-b536-085498ebce12",
   "metadata": {},
   "outputs": [],
   "source": [
    "input_string = input(\"Enter a string :\") # Taking a string as input\n",
    "list_of_words = input_string.split() # Splitting the string into a list of words\n",
    "print(\"The list of the words :\",list_of_words) # Printing the list of the words"
   ]
  },
  {
   "cell_type": "markdown",
   "id": "fa5fbb63-b46a-47ff-b468-e59cd01de2ab",
   "metadata": {},
   "source": [
    "15. Join a list of words into a string."
   ]
  },
  {
   "cell_type": "code",
   "execution_count": null,
   "id": "e0fc23e4-38d0-43ea-b533-b0352911a039",
   "metadata": {},
   "outputs": [],
   "source": [
    "list_of_words = ['I', 'am', 'doing', 'python', 'programming'] # Creating a list of words\n",
    "string = \" \".join(list_of_words) # Joining the words into a string\n",
    "print(\"The joined string is  :\",string) # Printing the joined string"
   ]
  },
  {
   "cell_type": "markdown",
   "id": "122f422f-efa9-44cb-b38c-ba8d237cb41c",
   "metadata": {},
   "source": [
    "16. Convert a string where words are separated by spaces to one where words are separated by underscores.\n"
   ]
  },
  {
   "cell_type": "code",
   "execution_count": null,
   "id": "f033c054-8566-4f08-921b-2ece773e88dd",
   "metadata": {},
   "outputs": [],
   "source": [
    "input_string = input(\"Enter a string :\") # Taking a string as input\n",
    "modified_string = input_string.replace(\" \", \"_\") # Replacing spaces with underscores\n",
    "print(\"Updated string is :\", modified_string) # Printing the string which is separated by underscores"
   ]
  },
  {
   "cell_type": "markdown",
   "id": "8ecf41b5-e2e7-40e1-9db8-13524f61fab4",
   "metadata": {},
   "source": [
    "17. Check if a string starts with a specific word or phrase."
   ]
  },
  {
   "cell_type": "code",
   "execution_count": null,
   "id": "fe37bc94-285d-4ff6-b900-875e1f1a9d0a",
   "metadata": {},
   "outputs": [],
   "source": [
    "input_string = input(\"Enter a string :\") # Taking a string as input\n",
    "input_word = input(\"Enter a specific word :\") # Taking a specific word\n",
    "start = input_string.startswith(input_word) # Checking if the string starts with the specific word or not\n",
    "if start:\n",
    "    print(\"The string starts with the specific word\") # Printing the results\n",
    "else:\n",
    "    print(\"The string does not start with the specific word\")"
   ]
  },
  {
   "cell_type": "markdown",
   "id": "5ca79139-7ee3-45a3-b45b-7a286596de81",
   "metadata": {},
   "source": [
    "18. Check if a string ends with a specific word or phrase."
   ]
  },
  {
   "cell_type": "code",
   "execution_count": null,
   "id": "8f0cc038-52b5-410b-ac3d-3b32856a5838",
   "metadata": {},
   "outputs": [],
   "source": [
    "input_string = input(\"Enter a string :\") # Taking a string as input\n",
    "input_word = input(\"Enter a specific word :\") # Taking a specific word\n",
    "end = input_string.endswith(input_word) # Checking if the string ends with the specific word or not\n",
    "if end:\n",
    "    print(\"The string ends with the specific word\") # Printing the results\n",
    "else:\n",
    "    print(\"The string does not end with the specific word\")"
   ]
  },
  {
   "cell_type": "markdown",
   "id": "c4cbe699-b2b3-4040-a0e9-2aad46a8f4ec",
   "metadata": {},
   "source": [
    "19. Convert a string to title case (e.g., \"hello world\" to \"Hello World\")."
   ]
  },
  {
   "cell_type": "code",
   "execution_count": null,
   "id": "28c857c5-158e-46ee-b633-596afda86c98",
   "metadata": {},
   "outputs": [],
   "source": [
    "input_string = input(\"Enter a string :\") # Taking a string as input\n",
    "title_string = input_string.title() # Converting the string to title case string\n",
    "print(\"Title case string is :\",title_string) # Printing the string with title case"
   ]
  },
  {
   "cell_type": "markdown",
   "id": "153f607d-6209-4bbc-ab17-e470eaf4e1f9",
   "metadata": {},
   "source": [
    "20. Find the longest word in a string."
   ]
  },
  {
   "cell_type": "code",
   "execution_count": null,
   "id": "0e7bb99c-dd3f-4c28-8c1d-def6c454b15e",
   "metadata": {},
   "outputs": [],
   "source": [
    "input_string = input(\"Enter a string :\") # Taking a string as input\n",
    "max_length = 0 # Initializing max_length variable with 0\n",
    "longest_word = \"\" # Initializing longest_word variable with an empty string\n",
    "list_of_words = input_string.split() # Splitting the input string to list of words\n",
    "for i in list_of_words: # Iterating through the list of words\n",
    "    if len(i) > max_length: # Checking if the length of the word is greater than the value max_length or not\n",
    "        max_length = len(i) # Updating max_length variable with the current length of the word\n",
    "        longest_word = i # Storing the word in the longest_word variable\n",
    "print(\"The longest word in the string is :\",longest_word) # Printing the longest word of the string               "
   ]
  },
  {
   "cell_type": "markdown",
   "id": "525f058a-3b47-4c16-8581-3ad794a23242",
   "metadata": {},
   "source": [
    "21. Find the shortest word in a string."
   ]
  },
  {
   "cell_type": "code",
   "execution_count": null,
   "id": "72e3ec88-7e72-4303-ac7c-c716b93f71ff",
   "metadata": {},
   "outputs": [],
   "source": [
    "input_string = input(\"Enter a string :\") # Taking a string as input\n",
    "list_of_words = input_string.split() # Splitting the input_string to list of words\n",
    "min_length = float('inf') # Initializing the min_length variable with maximum value\n",
    "shortest_word = \"\" # Initializing the shortest_word variable with an empty string\n",
    "for i in list_of_words: # Iterating throuth the list of words\n",
    "    if len(i) < min_length: # Checking if the length of the word is smaller than the value of the min_length or not\n",
    "        min_length = len(i) # Updating min_length variable with the current length of the word\n",
    "        shortest_word = i # Storing the word in the shortest_word variable\n",
    "print(\"The shortest word in the string is :\",shortest_word) # Printing the shortest word of the string"
   ]
  },
  {
   "cell_type": "markdown",
   "id": "194fecbf-f512-45c4-89cb-3c4bebc8dab1",
   "metadata": {},
   "source": [
    "22. Reverse the order of words in a string."
   ]
  },
  {
   "cell_type": "code",
   "execution_count": null,
   "id": "75b3fcd3-3e99-4926-8b33-3e18d00827c1",
   "metadata": {},
   "outputs": [],
   "source": [
    "input_string = input(\"Enter a string :\") # Taking a string as input\n",
    "list_of_words = input_string.split() # Splitting the input string to list of words\n",
    "list_of_reversed_words = list_of_words[::-1] # Reversing the order of the list of words\n",
    "updated_list_of_words = [] # Initializing updated_list_of_words variable with an empty list\n",
    "for i in list_of_reversed_words: # Iterating through the reversed list of words\n",
    "    updated_list_of_words.append(i) # Appending the words in the empty list\n",
    "    reversed_order_string = \" \".join(updated_list_of_words) # Converting the list of words to a string\n",
    "print(\"The reversed order string is :\",reversed_order_string) # Printing the string which is reversed by the order of words"
   ]
  },
  {
   "cell_type": "markdown",
   "id": "9bc59278-0ece-4ba0-8b71-98a43e0b06cb",
   "metadata": {},
   "source": [
    "23. Check if a string is alphanumeric."
   ]
  },
  {
   "cell_type": "code",
   "execution_count": null,
   "id": "4267164e-7520-4c39-bf26-244d73d142da",
   "metadata": {},
   "outputs": [],
   "source": [
    "input_string = input(\"Enter a string :\") # Taking a string as input\n",
    "output_string = input_string.isalnum() # Checking if the input string is alphanumeric or not using isalnum() function\n",
    "if output_string:\n",
    "    print(\"The string is alphanumeric\") # Printing the output\n",
    "else:\n",
    "    print(\"The string is not alphanumeric\")"
   ]
  },
  {
   "cell_type": "markdown",
   "id": "4e1901f7-b0b2-410c-96ad-81242afcc544",
   "metadata": {},
   "source": [
    "24. Extract all digits from a string."
   ]
  },
  {
   "cell_type": "code",
   "execution_count": null,
   "id": "11f12b22-dc70-47cd-91ba-901504140a89",
   "metadata": {},
   "outputs": [],
   "source": [
    "input_string = input(\"Enter a string :\") # Taking a string as input\n",
    "output_string = \"\" # Initializing output_string variable with an empty string\n",
    "for i in input_string: # Iterating through each character of the input string\n",
    "    if i.isdigit(): # Checking if the character is a digit or not\n",
    "        output_string += i # If it is a digit then adding it in the output_string variable\n",
    "print(\"All digits from the string are :\",output_string) # Printing all the digits of the string"
   ]
  },
  {
   "cell_type": "markdown",
   "id": "8c5947b2-8502-4312-bc52-f872d51423c6",
   "metadata": {},
   "source": [
    "25. Extract all alphabets from a string."
   ]
  },
  {
   "cell_type": "code",
   "execution_count": null,
   "id": "c43df770-d3aa-45ac-a107-e3c07257af48",
   "metadata": {},
   "outputs": [],
   "source": [
    "input_string = input(\"Enter a string :\") # Taking a string as input\n",
    "output_string = \"\" # Initializing output_string variable with an empty string\n",
    "for i in input_string: # Iterating through each character of the input string\n",
    "    if i.isalpha(): # Checking if the character is an alphabet or not\n",
    "        output_string += i # If it is an alphabet then adding it in the output_string variable\n",
    "print(\"All the alphabets from the string are :\",output_string) # Printing all the alphabets of the string"
   ]
  },
  {
   "cell_type": "markdown",
   "id": "af1f1357-a3fc-4f58-acfa-5780e1d787c6",
   "metadata": {},
   "source": [
    "26. Count the number of uppercase letters in a string."
   ]
  },
  {
   "cell_type": "code",
   "execution_count": null,
   "id": "1ae95b1f-07df-4fa4-b225-87d657f72535",
   "metadata": {},
   "outputs": [],
   "source": [
    "input_string = input(\"Enter a string :\")\n",
    "count = 0\n",
    "for i in input_string:\n",
    "    uppercase = i.isupper()\n",
    "    if uppercase:\n",
    "        count += 1\n",
    "print(\"Count of uppercase letters in the string is :\",count)"
   ]
  },
  {
   "cell_type": "markdown",
   "id": "104ac034-d53e-476c-a72d-7f5b15a5f01f",
   "metadata": {},
   "source": [
    "27. Count the number of lowercase letters in a string."
   ]
  },
  {
   "cell_type": "code",
   "execution_count": null,
   "id": "1263f7e5-e4fe-4b53-bcf3-892688816e25",
   "metadata": {},
   "outputs": [],
   "source": [
    "input_string = input(\"Enter a string :\")\n",
    "count = 0\n",
    "for i in input_string:\n",
    "    lowercase = i.islower()\n",
    "    if lowercase:\n",
    "        count += 1\n",
    "print(\"Count of lowercase letters in the string is :\",count)"
   ]
  },
  {
   "cell_type": "markdown",
   "id": "2ba51760-8400-4a67-90fd-035d3d948351",
   "metadata": {},
   "source": [
    "28. Swap the case of each character in a string."
   ]
  },
  {
   "cell_type": "code",
   "execution_count": null,
   "id": "c6e2e1b4-0e25-425c-904b-442ef2cc135a",
   "metadata": {},
   "outputs": [],
   "source": [
    "input_string = input(\"Enter a string :\")\n",
    "output_string = \"\"\n",
    "for i in input_string:\n",
    "    if i.islower():\n",
    "        output_string += i.upper()\n",
    "    else:\n",
    "        output_string += i.lower()\n",
    "print(output_string)"
   ]
  },
  {
   "cell_type": "markdown",
   "id": "26be9365-4c39-4dc1-97a1-ada6d22ab288",
   "metadata": {},
   "source": [
    "29. Remove a specific word from a string."
   ]
  },
  {
   "cell_type": "code",
   "execution_count": null,
   "id": "18fc81ce-30eb-4d52-8fab-6180d0b46bbe",
   "metadata": {},
   "outputs": [],
   "source": [
    "input_string = input(\"Enter a string :\")\n",
    "input_word = input(\"Enter a word :\")\n",
    "output_string = []\n",
    "modified_string = input_string.split()\n",
    "for i in modified_string:\n",
    "    if i == input_word:\n",
    "        continue\n",
    "    else:\n",
    "        output_string.append(i)\n",
    "print(\"The string after removing the specific word is :\",\" \".join(output_string))"
   ]
  },
  {
   "cell_type": "markdown",
   "id": "c3faf32f-6085-4a00-9f40-b8c9e262b040",
   "metadata": {},
   "source": [
    "30. Check if a string is a valid email address."
   ]
  },
  {
   "cell_type": "code",
   "execution_count": null,
   "id": "9f8392b8-f56b-4815-bef6-d755776c74db",
   "metadata": {},
   "outputs": [],
   "source": [
    "import re\n",
    "\n",
    "string = input(\"Enter a string :\")\n",
    "pattern = r'^[\\w\\.-]+@[\\w\\.-]+\\.\\w+$'\n",
    "if re.match(pattern,email):\n",
    "    print(\"This is a valid email address\")\n",
    "else:\n",
    "    print(\"This is an invalid email address\")"
   ]
  },
  {
   "cell_type": "markdown",
   "id": "8611e4cf-94f1-44de-a10e-6407369c2815",
   "metadata": {},
   "source": [
    "31. Extract the username from an email address string."
   ]
  },
  {
   "cell_type": "code",
   "execution_count": null,
   "id": "9276223a-e748-451d-b463-f0c7a9203651",
   "metadata": {},
   "outputs": [],
   "source": [
    "email = input(\"Enter an email :\")\n",
    "result = \"\"\n",
    "for i in email:\n",
    "    if i == '@':\n",
    "        break\n",
    "    else:\n",
    "        result += i\n",
    "print(\"Username of the email address is :\",result)"
   ]
  },
  {
   "cell_type": "markdown",
   "id": "0343976f-4bb5-4eb6-9d8f-c8aa895cef58",
   "metadata": {},
   "source": [
    "32. Extract the domain name from an email address string."
   ]
  },
  {
   "cell_type": "code",
   "execution_count": null,
   "id": "ab5e8ee8-fb59-4359-8b13-39190fcb6a99",
   "metadata": {},
   "outputs": [],
   "source": [
    "email = input(\"Enter an email :\")\n",
    "result = email.split('@')\n",
    "print(\"Domain name of the email address is :\",result[1])"
   ]
  },
  {
   "cell_type": "markdown",
   "id": "7b847d50-efb7-4d96-b085-b091a95d80c0",
   "metadata": {},
   "source": [
    "33. Replace multiple spaces in a string with a single space."
   ]
  },
  {
   "cell_type": "code",
   "execution_count": null,
   "id": "5ce7f190-4f60-440f-b548-b191d7ad82ff",
   "metadata": {},
   "outputs": [],
   "source": [
    "input_string = input(\"Enter a string :\")\n",
    "modified_string = input_string.split()\n",
    "output_string = \" \".join(modified_string)\n",
    "print(output_string)"
   ]
  },
  {
   "cell_type": "markdown",
   "id": "c0d3fc52-ebd5-4ca5-aed4-e5a344c1b2ac",
   "metadata": {},
   "source": [
    "34. Check if a string is a valid URL."
   ]
  },
  {
   "cell_type": "code",
   "execution_count": null,
   "id": "e531ee53-2d90-4825-bb5e-898e3be23c50",
   "metadata": {},
   "outputs": [],
   "source": [
    "from urllib.parse import urlparse\n",
    "\n",
    "string = input(\"Enter a string :\")\n",
    "result = urlparse(string)\n",
    "if result.scheme and result.netloc:\n",
    "    print(\"This is a valid URL\")\n",
    "else:\n",
    "    print(\"This is an invalid URL\")"
   ]
  },
  {
   "cell_type": "markdown",
   "id": "f4c85afb-6410-4489-b698-9f8e919a616b",
   "metadata": {},
   "source": [
    "35. Extract the protocol (http or https) from a URL string."
   ]
  },
  {
   "cell_type": "code",
   "execution_count": null,
   "id": "ac063266-4331-4415-88d3-3537ebf6e96e",
   "metadata": {},
   "outputs": [],
   "source": [
    "url = input(\"Enter a URL :\")\n",
    "find_protocol = url.find(\"://\")\n",
    "if find_protocol != -1:\n",
    "    protocol = url[:find_protocol]\n",
    "    print(protocol)\n",
    "else:\n",
    "    print(\"Protocol not found\")"
   ]
  },
  {
   "cell_type": "markdown",
   "id": "9ca424d5-bf5b-46fb-939b-aa17d1e87896",
   "metadata": {},
   "source": [
    "36. Find the frequency of each character in a string."
   ]
  },
  {
   "cell_type": "code",
   "execution_count": null,
   "id": "18eb5340-04ca-4cf4-831d-21f16351f211",
   "metadata": {},
   "outputs": [],
   "source": [
    "input_string = input(\"Enter a string :\")\n",
    "count_dict = {}\n",
    "for i in input_string:    \n",
    "    if i in count_dict:\n",
    "        count_dict[i] += 1\n",
    "    else:\n",
    "        count_dict[i] = 1\n",
    "for char,count in count_dict.items():\n",
    "    print(\"Character :\",char,\"Count :\",count)"
   ]
  },
  {
   "cell_type": "markdown",
   "id": "bd2ad75f-9e7b-4781-9ba8-69fa8efe55c3",
   "metadata": {},
   "source": [
    "37. Remove all punctuation from a string."
   ]
  },
  {
   "cell_type": "code",
   "execution_count": null,
   "id": "0e6658af-80fd-4407-a1fc-e5d6f543474e",
   "metadata": {},
   "outputs": [],
   "source": [
    "import string\n",
    "input_string = input(\"Enter a string :\")\n",
    "output_string = \"\"\n",
    "for i in input_string :\n",
    "    if i in string.punctuation:\n",
    "        continue\n",
    "    else:\n",
    "        output_string += i\n",
    "print(\"The string after removing punctuation :\",output_string)"
   ]
  },
  {
   "cell_type": "markdown",
   "id": "5c5d6003-1a8a-42ff-b116-e983112f66c2",
   "metadata": {},
   "source": [
    "38. Check if a string contains only digits."
   ]
  },
  {
   "cell_type": "code",
   "execution_count": null,
   "id": "96654848-87e9-465e-a6dc-0e2c8119a5a7",
   "metadata": {},
   "outputs": [],
   "source": [
    "input_string = input(\"Enter a string :\")\n",
    "result = input_string.isdigit()\n",
    "if result:\n",
    "    print(\"String contains only digits\")\n",
    "else:\n",
    "    print(\"String does not contain only digits\")"
   ]
  },
  {
   "cell_type": "markdown",
   "id": "57fae27b-3d98-490d-af47-12945cd7f907",
   "metadata": {},
   "source": [
    "39. Check if a string contains only alphabets."
   ]
  },
  {
   "cell_type": "code",
   "execution_count": null,
   "id": "f0b95c1e-19b8-4b83-8a3e-8794a27e9475",
   "metadata": {},
   "outputs": [],
   "source": [
    "input_string = input(\"Enter a string :\")\n",
    "result = input_string.isalpha()\n",
    "if result:\n",
    "    print(\"String contains only alphabets\")\n",
    "else:\n",
    "    print(\"String does not contain only alphabets\")"
   ]
  },
  {
   "cell_type": "markdown",
   "id": "5c2ff2ee-0a54-4277-8181-0a83e29f6276",
   "metadata": {},
   "source": [
    "40. Convert a string to a list of characters."
   ]
  },
  {
   "cell_type": "code",
   "execution_count": null,
   "id": "60233644-6bdd-4073-bab4-49c0c95a88e9",
   "metadata": {},
   "outputs": [],
   "source": [
    "input_string = input(\"Enter a string :\")\n",
    "list_of_characters = []\n",
    "for i in input_string:\n",
    "    list_of_characters.append(i)\n",
    "print(list_of_characters)"
   ]
  },
  {
   "cell_type": "markdown",
   "id": "174acbdf-7385-48e8-b698-53bc1b282943",
   "metadata": {},
   "source": [
    "41. Check if two strings are anagrams."
   ]
  },
  {
   "cell_type": "code",
   "execution_count": null,
   "id": "c809037a-397b-426f-8b1a-b9c2cc33330e",
   "metadata": {},
   "outputs": [],
   "source": [
    "input_string1 = input(\"Enter first string :\")\n",
    "input_string2 = input(\"Enter second string :\")\n",
    "modified_string1 = input_string1.lower()\n",
    "modified_string2 = input_string2.lower()\n",
    "if sorted(modified_string1) == sorted(modified_string2):\n",
    "    print(f\"{input_string1} and {input_string2} are anagrams\")\n",
    "else:\n",
    "    print(f\"{input_string1} and {input_string2} are not anagrams\")"
   ]
  },
  {
   "cell_type": "markdown",
   "id": "ed5f37ec-d9fb-444d-86b1-c9be93fdcbdd",
   "metadata": {},
   "source": [
    "42. Encode a string using a Caesar cipher."
   ]
  },
  {
   "cell_type": "code",
   "execution_count": null,
   "id": "8e171feb-90e9-4f35-ad08-3fc5985464e5",
   "metadata": {},
   "outputs": [],
   "source": [
    "string = input(\"Enter a string :\")\n",
    "shift = int(input(\"Enter the number of positions to be shifted :\"))\n",
    "encoded_text = \"\"\n",
    "for i in string:\n",
    "    if i.isalpha():\n",
    "        encoded_char = chr((ord(i) + shift - ord('a')) % 26 + ord('a'))\n",
    "    else:\n",
    "        encoded_char = i\n",
    "    encoded_text += encoded_char   \n",
    "print(\"Encoded text :\",encoded_text)"
   ]
  },
  {
   "cell_type": "markdown",
   "id": "7d786aef-7417-428e-9d29-9bac36b25962",
   "metadata": {},
   "source": [
    "43. Decode a Caesar cipher encoded string."
   ]
  },
  {
   "cell_type": "code",
   "execution_count": null,
   "id": "704cfcae-d828-42d2-8f89-6f4668000286",
   "metadata": {},
   "outputs": [],
   "source": [
    "string = input(\"Enter a string :\")\n",
    "shift = int(input(\"Enter the number of positions to be shifted :\"))\n",
    "decoded_text = \"\"\n",
    "for i in string:\n",
    "    if i.isalpha():\n",
    "        decoded_char = chr((ord(i) - shift - ord('a')) % 26 + ord('a'))\n",
    "    else:\n",
    "        decoded_char = i\n",
    "    decoded_text += decoded_char   \n",
    "print(\"Encoded text :\",decoded_text)"
   ]
  },
  {
   "cell_type": "markdown",
   "id": "04763894-f30b-4104-bb3f-9b733efe65f3",
   "metadata": {},
   "source": [
    "44. Find the most frequent word in a string."
   ]
  },
  {
   "cell_type": "code",
   "execution_count": null,
   "id": "84f591f6-dc84-4747-9ec4-bcd5bea6243f",
   "metadata": {},
   "outputs": [],
   "source": [
    "import re\n",
    "from collections import Counter\n",
    "\n",
    "input_string = input(\"Enter a string :\")\n",
    "cleaned_string = re.sub(r'[^\\w\\s]','',input_string).lower()\n",
    "list_of_words = cleaned_string.split()\n",
    "count_of_words = Counter(list_of_words)\n",
    "most_common_word = count_of_words.most_common(1)[0][0]\n",
    "\n",
    "print(\"Most frequent word in the string is :\",most_common_word)"
   ]
  },
  {
   "cell_type": "markdown",
   "id": "775047cf-1487-4cfe-98ce-ac347431d198",
   "metadata": {},
   "source": [
    "45. Find all unique words in a string."
   ]
  },
  {
   "cell_type": "code",
   "execution_count": null,
   "id": "4ed4dbd4-9c2d-4cd5-bd77-ec5180cad0c9",
   "metadata": {},
   "outputs": [],
   "source": [
    "import re\n",
    "\n",
    "input_string = input(\"Enter a string :\")\n",
    "cleaned_string = re.sub(r'[^\\w\\s]','',input_string).lower()\n",
    "list_of_words = cleaned_string.split()\n",
    "unique_words = set(list_of_words)\n",
    "\n",
    "print(\"All unique words in the string are :\",unique_words)"
   ]
  },
  {
   "cell_type": "markdown",
   "id": "cf28808a-480a-4242-8005-ace0ebeb14cc",
   "metadata": {},
   "source": [
    "46. Count the number of syllables in a string."
   ]
  },
  {
   "cell_type": "code",
   "execution_count": null,
   "id": "c9ea4b7f-4894-4222-8aed-ab6b6c193d0f",
   "metadata": {},
   "outputs": [],
   "source": [
    "import re\n",
    "string = input(\"Enter a string :\")\n",
    "vowels_group = re.findall(r'[aeiouy]+',string,re.IGNORECASE)\n",
    "count_of_syllables = len(vowels_group)\n",
    "print(f\"Number of syllables present in the string is :\",count_of_syllables)"
   ]
  },
  {
   "cell_type": "markdown",
   "id": "e5592fb4-cdbf-4e12-beb6-d262b66c8f5c",
   "metadata": {},
   "source": [
    "47. Check if a string contains any special characters."
   ]
  },
  {
   "cell_type": "code",
   "execution_count": null,
   "id": "4c625912-4e7b-4b39-897b-b44ab3cc5401",
   "metadata": {},
   "outputs": [],
   "source": [
    "import re\n",
    "\n",
    "input_string = input(\"Enter a string :\")\n",
    "result = re.search(r'[!@#$%^&*()_+{}\\[\\]:;<>,.?~\\\\/]',input_string)\n",
    "if result:\n",
    "    print(\"The string contains special characters\")\n",
    "else:\n",
    "    print(\"The string does not contain special characters\")"
   ]
  },
  {
   "cell_type": "markdown",
   "id": "6d3e1235-d392-49c8-a040-b2e128bb8b20",
   "metadata": {},
   "source": [
    "48. Remove the nth word from a string."
   ]
  },
  {
   "cell_type": "code",
   "execution_count": null,
   "id": "60abf408-55bc-4e14-963f-6633aee9478d",
   "metadata": {},
   "outputs": [],
   "source": [
    "input_string = input(\"Enter a string :\")\n",
    "n = int(input(\"Enter the value of n :\"))\n",
    "modified_string = input_string.split()\n",
    "result_string = modified_string.pop(n-1)\n",
    "modified_result_string = \" \".join(modified_string)\n",
    "print(\"The string after removing the nth word is:\",modified_result_string)"
   ]
  },
  {
   "cell_type": "markdown",
   "id": "361ce4b8-47db-40bf-8550-1479b0fdb9e2",
   "metadata": {},
   "source": [
    "49. Insert a word at the nth position in a string."
   ]
  },
  {
   "cell_type": "code",
   "execution_count": null,
   "id": "02e9ca56-f123-40b7-b4eb-38e38fd02ec5",
   "metadata": {},
   "outputs": [],
   "source": [
    "input_string = input(\"Enter a string :\")\n",
    "n = int(input(\"Enter the value of n :\"))\n",
    "word = input(\"Enter to word :\")\n",
    "modified_string = input_string.split()\n",
    "result_string = modified_string.insert(n-1,word)\n",
    "modified_result_string = \" \".join(modified_string)\n",
    "print(\"The string after inserting the nth word is:\",modified_result_string)"
   ]
  },
  {
   "cell_type": "markdown",
   "id": "a2939b5c-87a4-4ce4-90e2-ea1b501f3190",
   "metadata": {},
   "source": [
    "50. Convert a CSV string to a list of lists."
   ]
  },
  {
   "cell_type": "code",
   "execution_count": null,
   "id": "71840fe5-b8cd-4a6d-8465-a1c5137c00dd",
   "metadata": {},
   "outputs": [],
   "source": [
    "csv_data = \"First Name,Last Name,Age\\nRachel,Booker,25\\nJamie,Smith,30\\nCraig,Johnson,22\"\n",
    "list_of_string = csv_data.split(\"\\n\")\n",
    "result_list = []\n",
    "for i in list_of_string:\n",
    "    lists = i.split(\",\")\n",
    "    result_list.append(lists)\n",
    "print(result_list)"
   ]
  },
  {
   "cell_type": "markdown",
   "id": "88bed176-9f47-4cdc-8228-62a6f8ed3430",
   "metadata": {},
   "source": [
    "## List Based Practice Problem :"
   ]
  },
  {
   "cell_type": "markdown",
   "id": "2541a079-a350-4e8c-b8d3-6c7bef040b13",
   "metadata": {},
   "source": [
    "1. Create a list with integers from 1 to 10."
   ]
  },
  {
   "cell_type": "code",
   "execution_count": null,
   "id": "33139325-4e7c-456c-8485-5f7e4e3dc8dd",
   "metadata": {},
   "outputs": [],
   "source": [
    "integers_list = list(range(1,11))\n",
    "print(\"The list of integers from 1 to 10 is :\",integers_list)"
   ]
  },
  {
   "cell_type": "markdown",
   "id": "84aecb1d-b308-4668-871c-7cfc42bd5f2b",
   "metadata": {},
   "source": [
    "2. Find the length of a list without using the `len()` function."
   ]
  },
  {
   "cell_type": "code",
   "execution_count": null,
   "id": "68560ff6-d23c-4e10-b63b-19afde75f943",
   "metadata": {},
   "outputs": [],
   "source": [
    "my_list = [1,2,3,4,5,6]\n",
    "count = 0\n",
    "for i in my_list:\n",
    "    count += 1\n",
    "print(\"Length of the list is :\",count)"
   ]
  },
  {
   "cell_type": "markdown",
   "id": "e1cab9a0-7144-4a68-8bfe-a5e56dcb34a1",
   "metadata": {},
   "source": [
    "3. Append an element to the end of a list"
   ]
  },
  {
   "cell_type": "code",
   "execution_count": null,
   "id": "44c14fdf-4954-46fa-8c7c-742e95919ccf",
   "metadata": {},
   "outputs": [],
   "source": [
    "my_list = [1,2,3,4,5]\n",
    "element = 6\n",
    "my_list.append(element)\n",
    "print(\"The list after appending the element is :\",my_list)"
   ]
  },
  {
   "cell_type": "markdown",
   "id": "b37eff73-e3e4-4d20-865e-671ab2614cca",
   "metadata": {},
   "source": [
    "4. Insert an element at a specific index in a list."
   ]
  },
  {
   "cell_type": "code",
   "execution_count": null,
   "id": "0be546d2-18d0-4620-b097-58a7f6fb1f10",
   "metadata": {},
   "outputs": [],
   "source": [
    "my_list = [1,2,3,4,6,7,8]\n",
    "index = 4\n",
    "element = 5\n",
    "my_list.insert(index,element)\n",
    "print(\"The list after inserting the element is :\",my_list)"
   ]
  },
  {
   "cell_type": "markdown",
   "id": "8ee7d489-f045-41eb-9a5d-0d090f1dc276",
   "metadata": {},
   "source": [
    "5. Remove an element from a list by its value."
   ]
  },
  {
   "cell_type": "code",
   "execution_count": null,
   "id": "aa250210-6188-484d-88c9-a934d143351d",
   "metadata": {},
   "outputs": [],
   "source": [
    "my_list = [1,2,3,3,4,5,6,7,8]\n",
    "element = 3\n",
    "my_list.remove(element)\n",
    "print(\"The list after removing the element is :\", my_list)"
   ]
  },
  {
   "cell_type": "markdown",
   "id": "b670169f-337d-492d-9748-2a4b5ef9e1ee",
   "metadata": {},
   "source": [
    "6. Remove an element from a list by its index."
   ]
  },
  {
   "cell_type": "code",
   "execution_count": null,
   "id": "9cf174a6-3e6b-412d-ad8f-af82cc1e6ab0",
   "metadata": {},
   "outputs": [],
   "source": [
    "my_list = [1,2,3,4,5,6,7,8]\n",
    "index = 5\n",
    "del my_list[index]\n",
    "print(\"The list after removing the element is :\",my_list)"
   ]
  },
  {
   "cell_type": "markdown",
   "id": "5e467fe2-c3ef-4d5e-b39e-e066df8ff62d",
   "metadata": {},
   "source": [
    "7. Check if an element exists in a list."
   ]
  },
  {
   "cell_type": "code",
   "execution_count": null,
   "id": "4e8feb2a-a3ad-462e-8f3e-efad12a56de8",
   "metadata": {},
   "outputs": [],
   "source": [
    "my_list = [1,2,3,4,5]\n",
    "element = 4\n",
    "if element in my_list:\n",
    "    print(\"The element exists in the list\")\n",
    "else:\n",
    "    print(\"The element does not exist in the list\")"
   ]
  },
  {
   "cell_type": "markdown",
   "id": "378ad2e3-df5c-4462-9862-d7ccd1c56f73",
   "metadata": {},
   "source": [
    "8. Find the index of the first occurrence of an element in a list."
   ]
  },
  {
   "cell_type": "code",
   "execution_count": null,
   "id": "e82ae9ec-ca8f-40bc-81f5-50fe301712c3",
   "metadata": {},
   "outputs": [],
   "source": [
    "my_list = [1,2,3,5,4,5]\n",
    "element = 5\n",
    "first_occurrence = my_list.index(element)\n",
    "print(\"The first occurrence of the element in the list is :\",first_occurrence)"
   ]
  },
  {
   "cell_type": "markdown",
   "id": "8ad24121-bc25-4238-ae8e-8e2f81021ebf",
   "metadata": {},
   "source": [
    "9. Count the occurrences of an element in a list."
   ]
  },
  {
   "cell_type": "code",
   "execution_count": null,
   "id": "5a603c52-8026-47da-9077-ca0a841c18f6",
   "metadata": {},
   "outputs": [],
   "source": [
    "my_list = [1,2,3,4,3,5,6,3,7,3,8]\n",
    "element = 3\n",
    "count = my_list.count(element)\n",
    "print(\"Occurrences of the element in the list is :\",count)"
   ]
  },
  {
   "cell_type": "markdown",
   "id": "5a211347-4d26-44df-b841-d1b46f36a96f",
   "metadata": {},
   "source": [
    "10. Reverse the order of elements in a list."
   ]
  },
  {
   "cell_type": "code",
   "execution_count": null,
   "id": "9e330288-34a7-4f21-855f-8b07d12a2ca2",
   "metadata": {},
   "outputs": [],
   "source": [
    "my_list = [1,2,3,4,5,6,7,8,9,10]\n",
    "my_list.reverse()\n",
    "print(\"Reversed order list is :\",my_list)"
   ]
  },
  {
   "cell_type": "markdown",
   "id": "dd2efd01-4ff4-4a18-b5ad-e82c49099d80",
   "metadata": {},
   "source": [
    "11. Sort a list in ascending order."
   ]
  },
  {
   "cell_type": "code",
   "execution_count": null,
   "id": "e5a06788-f7f2-447d-8e46-d4718f690395",
   "metadata": {},
   "outputs": [],
   "source": [
    "my_list = [2,8,10,9,3,4,5,1,7,6]\n",
    "my_list.sort()\n",
    "print(\"Ascending order list is :\",my_list)"
   ]
  },
  {
   "cell_type": "markdown",
   "id": "70e4f49e-795e-46b1-adf9-a86f5231672f",
   "metadata": {},
   "source": [
    "12. Sort a list in descending order."
   ]
  },
  {
   "cell_type": "code",
   "execution_count": null,
   "id": "bf37375e-266f-45e6-918e-21df4fce1c6a",
   "metadata": {},
   "outputs": [],
   "source": [
    "my_list = [8,2,10,4,9,1,7,3,6,5]\n",
    "my_list.sort(reverse = True)\n",
    "print(\"Descending order list is :\",my_list)"
   ]
  },
  {
   "cell_type": "markdown",
   "id": "af9fbe3a-39db-425a-bb58-34faf2871423",
   "metadata": {},
   "source": [
    "13. Create a list of even numbers from 1 to 20."
   ]
  },
  {
   "cell_type": "code",
   "execution_count": null,
   "id": "afa7df88-6111-46cf-846a-f50a1201ef37",
   "metadata": {
    "tags": []
   },
   "outputs": [],
   "source": [
    "even_list = []\n",
    "for i in range(1,21):\n",
    "    if i%2 == 0:\n",
    "        even_list.append(i)\n",
    "print(\"List of even numbers from 1 to 20 is :\",even_list)"
   ]
  },
  {
   "cell_type": "markdown",
   "id": "81ee8e0d-0768-4e1b-b1d2-b777bc8a671f",
   "metadata": {},
   "source": [
    "14. Create a list of odd numbers from 1 to 20."
   ]
  },
  {
   "cell_type": "code",
   "execution_count": null,
   "id": "dc80fb3b-dd38-4e30-ac18-f15325a55a97",
   "metadata": {},
   "outputs": [],
   "source": [
    "odd_list = []\n",
    "for i in range(1,21):\n",
    "    if i%2 != 0:\n",
    "        odd_list.append(i)\n",
    "print(\"List of odd numbers from 1 to 20 is :\",odd_list)"
   ]
  },
  {
   "cell_type": "markdown",
   "id": "91d829e7-1322-4219-ae46-eee38289a999",
   "metadata": {},
   "source": [
    "15. Find the sum of all elements in a list."
   ]
  },
  {
   "cell_type": "code",
   "execution_count": null,
   "id": "f590f78c-a12a-4dc9-b858-34fd308a3f4d",
   "metadata": {},
   "outputs": [],
   "source": [
    "my_list = [1,2,3,4,5]\n",
    "sum_of_elements = 0\n",
    "for i in my_list:\n",
    "    sum_of_elements += i\n",
    "print(\"Sum of the elements is :\",sum_of_elements)"
   ]
  },
  {
   "cell_type": "markdown",
   "id": "ff366023-792b-4f79-815e-015eededf4b8",
   "metadata": {},
   "source": [
    "16. Find the maximum value in a list."
   ]
  },
  {
   "cell_type": "code",
   "execution_count": null,
   "id": "e583c64c-ba7b-47c5-86ed-54d49798203c",
   "metadata": {},
   "outputs": [],
   "source": [
    "my_list = [1,2,3,4,5,6,7,8,9,10]\n",
    "max_value = max(my_list)\n",
    "print(\"The maximum value in the list is :\",max_value)"
   ]
  },
  {
   "cell_type": "markdown",
   "id": "27a91e38-f296-40dc-99da-271c0162a94b",
   "metadata": {},
   "source": [
    "17. Find the minimum value in a list."
   ]
  },
  {
   "cell_type": "code",
   "execution_count": null,
   "id": "70154b08-6cd5-4eb0-bf8e-1fb0c35b282e",
   "metadata": {},
   "outputs": [],
   "source": [
    "my_list = [1,2,3,4,5,6,7,8,9,10]\n",
    "min_value = min(my_list)\n",
    "print(\"The minimum value in the list is :\",min_value)"
   ]
  },
  {
   "cell_type": "markdown",
   "id": "b482ad1b-dd5a-4160-bad8-2c99ef1baa31",
   "metadata": {},
   "source": [
    "18. Create a list of squares of numbers from 1 to 10."
   ]
  },
  {
   "cell_type": "code",
   "execution_count": null,
   "id": "8be515fa-8eb2-4845-be13-3dd0e0d06d1b",
   "metadata": {},
   "outputs": [],
   "source": [
    "list_of_squares = []\n",
    "for i in range(1,11):\n",
    "    list_of_squares.append(i*i)\n",
    "print(\"The list of squares from 1 to 10 is :\",list_of_squares)  "
   ]
  },
  {
   "cell_type": "markdown",
   "id": "4753fbd8-7672-484a-81be-a6e40124bbd7",
   "metadata": {},
   "source": [
    "19. Create a list of random numbers."
   ]
  },
  {
   "cell_type": "code",
   "execution_count": null,
   "id": "6f52b05e-7f5c-45f5-9cfd-e5ccf52083c2",
   "metadata": {},
   "outputs": [],
   "source": [
    "import random\n",
    "random_list = []\n",
    "for i in range(10):\n",
    "    random_list.append(random.randint(1,10))\n",
    "print(\"List of random numbers is :\",random_list)"
   ]
  },
  {
   "cell_type": "markdown",
   "id": "ef97622e-3f06-4a9b-936d-68e162025e4d",
   "metadata": {},
   "source": [
    "20. Remove duplicates from a list."
   ]
  },
  {
   "cell_type": "code",
   "execution_count": null,
   "id": "a1649f10-a0a1-4b89-9eba-eee62e4cd802",
   "metadata": {},
   "outputs": [],
   "source": [
    "input_list = [1,2,3,2,4,3,5,4,5]\n",
    "updated_list = set(input_list)\n",
    "output_list = list(updated_list)\n",
    "print(\"The list after removing duplicates :\",output_list)"
   ]
  },
  {
   "cell_type": "markdown",
   "id": "1c018e1a-0a2b-4984-b3df-162b6a1cc4c9",
   "metadata": {},
   "source": [
    "21. Find the common elements between two lists."
   ]
  },
  {
   "cell_type": "code",
   "execution_count": null,
   "id": "c7cd019b-20a8-4a08-aa64-141453d625c9",
   "metadata": {},
   "outputs": [],
   "source": [
    "list1 = [1,2,3,4,5,6]\n",
    "list2 = [4,5,6,7,8,9]\n",
    "updated_list1 = set(list1)\n",
    "updated_list2 = set(list2)\n",
    "output_list = list(updated_list1.intersection(updated_list2))\n",
    "print(\"The common elements between two lists are :\",output_list)"
   ]
  },
  {
   "cell_type": "markdown",
   "id": "25823ee1-9137-4188-8624-b9945f131263",
   "metadata": {},
   "source": [
    "22. Find the difference between two lists."
   ]
  },
  {
   "cell_type": "code",
   "execution_count": null,
   "id": "65d4a5f9-3fd9-4ea1-96fb-f2343225ce2d",
   "metadata": {},
   "outputs": [],
   "source": [
    "list1 = [1,2,3,4,5,6]\n",
    "list2 = [4,5,6,7,8,9]\n",
    "updated_list1 = set(list1)\n",
    "updated_list2 = set(list2)\n",
    "output_list = list(updated_list1.difference(updated_list2))\n",
    "print(\"The difference between two lists is :\",output_list)"
   ]
  },
  {
   "cell_type": "markdown",
   "id": "c79d09ed-b529-419a-9843-ff7a5fe9c952",
   "metadata": {},
   "source": [
    "23. Merge two lists."
   ]
  },
  {
   "cell_type": "code",
   "execution_count": null,
   "id": "ae5f7eec-4ea0-4a73-b02e-3318498db616",
   "metadata": {},
   "outputs": [],
   "source": [
    "list1 = [1,2,3,4,5]\n",
    "list2 = [6,7,8,9,10]\n",
    "merged_list = list1 + list2\n",
    "print(\"The merged list is :\",merged_list)"
   ]
  },
  {
   "cell_type": "markdown",
   "id": "0cd9a99b-b923-4390-9907-9c57139ef4af",
   "metadata": {},
   "source": [
    "24. Multiply all elements in a list by 2."
   ]
  },
  {
   "cell_type": "code",
   "execution_count": null,
   "id": "7b2f3803-1a32-4cd7-8da2-d3f2a3d6d28b",
   "metadata": {},
   "outputs": [],
   "source": [
    "my_list = [1,2,3,4,5]\n",
    "multiplied_list = []\n",
    "for i in my_list:\n",
    "    i *= 2\n",
    "    multiplied_list.append(i)\n",
    "print(\"The multiplied list is :\",multiplied_list)"
   ]
  },
  {
   "cell_type": "markdown",
   "id": "6d957203-d5ee-4c0a-90a1-edb602155dea",
   "metadata": {},
   "source": [
    "25. Filter out all even numbers from a list."
   ]
  },
  {
   "cell_type": "code",
   "execution_count": null,
   "id": "481ae074-6a48-452e-98e0-f7a28e9d58a2",
   "metadata": {},
   "outputs": [],
   "source": [
    "my_list = [1,2,3,4,5,6,7,8,9,10]\n",
    "even_list = []\n",
    "for i in my_list:\n",
    "    if i%2 == 0:\n",
    "        even_list.append(i)\n",
    "print(\"The filtered list is :\",even_list)"
   ]
  },
  {
   "cell_type": "markdown",
   "id": "54a70ec6-71ac-4d2f-9866-2b2376f839e0",
   "metadata": {},
   "source": [
    "26. Convert a list of strings to a list of integers."
   ]
  },
  {
   "cell_type": "code",
   "execution_count": null,
   "id": "b146b32e-1d16-41c4-b85d-cb700af7259c",
   "metadata": {},
   "outputs": [],
   "source": [
    "list_of_strings = [\"1\",\"2\",\"3\",\"4\",\"5\",\"6\"]\n",
    "list_of_integers = []\n",
    "for i in list_of_strings:\n",
    "    list_of_integers.append(int(i))\n",
    "print(\"The list of integers is :\",list_of_integers)"
   ]
  },
  {
   "cell_type": "markdown",
   "id": "57e5376e-38f9-4a0d-a0e9-a1713c2b57fe",
   "metadata": {},
   "source": [
    "27. Convert a list of integers to a list of strings."
   ]
  },
  {
   "cell_type": "code",
   "execution_count": null,
   "id": "157cce72-b309-4113-8a46-836cb103e90c",
   "metadata": {},
   "outputs": [],
   "source": [
    "list_of_integers = [1, 2, 3, 4, 5, 6]\n",
    "list_of_strings = []\n",
    "for i in list_of_integers:\n",
    "    list_of_strings.append(str(i))\n",
    "print(\"The list of strings is :\",list_of_strings)"
   ]
  },
  {
   "cell_type": "markdown",
   "id": "4e732518-1c77-4b6a-b9d3-5d9bef00e3d5",
   "metadata": {},
   "source": [
    "28. Flatten a nested list."
   ]
  },
  {
   "cell_type": "code",
   "execution_count": null,
   "id": "bbce943c-c7cd-44d5-9645-f91b66102707",
   "metadata": {},
   "outputs": [],
   "source": [
    "my_list = [1,2,3,4,[5,6,7],[8,9,10]]\n",
    "flattened_list = []\n",
    "for i in my_list:\n",
    "    if isinstance(i,list):\n",
    "        flattened_list.extend(i)\n",
    "    else:\n",
    "        flattened_list.append(i)\n",
    "print(\"The flattened list is :\",flattened_list)"
   ]
  },
  {
   "cell_type": "markdown",
   "id": "af80d41a-e878-4038-918a-1c5f1eda6565",
   "metadata": {},
   "source": [
    "29. Create a list of the first 10 Fibonacci numbers."
   ]
  },
  {
   "cell_type": "code",
   "execution_count": null,
   "id": "bda2e091-bea6-4677-8948-6811bc561b32",
   "metadata": {},
   "outputs": [],
   "source": [
    "list_of_fibonacci_numbers = [0,1]\n",
    "for i in range(2,10):\n",
    "    fibonacci_number = list_of_fibonacci_numbers[i-1] + list_of_fibonacci_numbers[i-2]\n",
    "    list_of_fibonacci_numbers.append(fibonacci_number)\n",
    "print(\"List of the first 10 Fibonacci numbers is :\",list_of_fibonacci_numbers)"
   ]
  },
  {
   "cell_type": "markdown",
   "id": "58353b6e-5627-42d3-9ffc-b2bddfc5c511",
   "metadata": {},
   "source": [
    "30. Check if a list is sorted."
   ]
  },
  {
   "cell_type": "code",
   "execution_count": null,
   "id": "dafae188-6dab-4348-add8-4202bd98e655",
   "metadata": {},
   "outputs": [],
   "source": [
    "my_list = [1,2,3,4,5,6,7,8,9,10]\n",
    "my_list1 = sorted(my_list)\n",
    "if my_list == my_list1:\n",
    "    print(\"The list is sorted\")\n",
    "else:\n",
    "    print(\"The list is not sorted\")"
   ]
  },
  {
   "cell_type": "markdown",
   "id": "8449016d-32e9-4af6-9666-f1dcaebbf972",
   "metadata": {},
   "source": [
    "31. Rotate a list to the left by `n` positions."
   ]
  },
  {
   "cell_type": "code",
   "execution_count": null,
   "id": "d101ad21-54db-4b86-8afd-cd7a11830558",
   "metadata": {},
   "outputs": [],
   "source": [
    "my_list = [1,2,3,4,5,6,7,8,9,10]\n",
    "n = 3\n",
    "n = n % len(my_list)\n",
    "rotated_list = my_list[n:]+my_list[:n]\n",
    "print(\"The rotated list is :\",rotated_list)"
   ]
  },
  {
   "cell_type": "markdown",
   "id": "ab3d7e36-9c52-48b1-aced-22eceaaf6c6b",
   "metadata": {},
   "source": [
    "32. Rotate a list to the right by `n` positions."
   ]
  },
  {
   "cell_type": "code",
   "execution_count": null,
   "id": "3474758a-3c99-450b-b7cb-234276e8de14",
   "metadata": {},
   "outputs": [],
   "source": [
    "my_list = [1,2,3,4,5,6,7,8,9,10]\n",
    "n = 3\n",
    "n = n % len(my_list)\n",
    "rotated_list = my_list[-n:]+my_list[:-n]\n",
    "print(\"The rotated list is :\",rotated_list)"
   ]
  },
  {
   "cell_type": "markdown",
   "id": "124da6f8-b484-400a-906c-c22550b7339f",
   "metadata": {},
   "source": [
    "33. Create a list of prime numbers up to 50."
   ]
  },
  {
   "cell_type": "code",
   "execution_count": null,
   "id": "fafc9c71-2665-4ed6-8aff-627435dd7bf4",
   "metadata": {},
   "outputs": [],
   "source": [
    "prime_list = []\n",
    "for i in range(51):\n",
    "    if i == 0 or i == 1:\n",
    "        continue\n",
    "    for j in range(2,i):\n",
    "        if i % j == 0:\n",
    "            break\n",
    "    else:\n",
    "        prime_list.append(i)\n",
    "print(\"The list of prime numbers up to 50 is :\",prime_list)"
   ]
  },
  {
   "cell_type": "markdown",
   "id": "129386bb-b4f8-4e50-9124-0432932dd8c9",
   "metadata": {},
   "source": [
    "34. Split a list into chunks of size `n`."
   ]
  },
  {
   "cell_type": "code",
   "execution_count": null,
   "id": "d4008508-5081-4ce8-86f0-061797e1c572",
   "metadata": {},
   "outputs": [],
   "source": [
    "my_list = [1,2,3,4,5,6,7,8,9,10]\n",
    "output_list = []\n",
    "n = 2\n",
    "for i in range(0,len(my_list),n):\n",
    "    output_list.append(my_list[i:i+n])\n",
    "print(\"The splitted list is :\",output_list)"
   ]
  },
  {
   "cell_type": "markdown",
   "id": "a8c8b290-94c9-43b5-bdcf-3bff03e3ca36",
   "metadata": {},
   "source": [
    "35. Find the second largest number in a list."
   ]
  },
  {
   "cell_type": "code",
   "execution_count": null,
   "id": "7420c67d-bb4a-4e4b-bb41-ee69086f2552",
   "metadata": {},
   "outputs": [],
   "source": [
    "my_list = [10,50,30,80,20,50,60,70]\n",
    "sorted_list = sorted(set(my_list))\n",
    "second_largest_number = sorted_list[-2]\n",
    "print(\"The second largest number in the list is :\",second_largest_number)"
   ]
  },
  {
   "cell_type": "markdown",
   "id": "b90fd9ad-2e2b-4303-ad41-d5e2286ac89f",
   "metadata": {},
   "source": [
    "36. Replace every element in a list with its square."
   ]
  },
  {
   "cell_type": "code",
   "execution_count": null,
   "id": "1bb5f8db-a9dc-472a-a8c0-1c68b3b391c6",
   "metadata": {},
   "outputs": [],
   "source": [
    "my_list = [1,2,3,4,5,6,7,8,9,10]\n",
    "squared_list = []\n",
    "for i in my_list:\n",
    "    i = i*i\n",
    "    squared_list.append(i)\n",
    "print(\"The squared list is :\",squared_list)"
   ]
  },
  {
   "cell_type": "markdown",
   "id": "9a4ff73d-0c19-4bf7-b907-3b2ac2c72674",
   "metadata": {},
   "source": [
    "37. Convert a list to a dictionary where list elements become keys and their indices become values.\n"
   ]
  },
  {
   "cell_type": "code",
   "execution_count": null,
   "id": "7c7a1381-191a-4604-87b5-8d0e02123091",
   "metadata": {},
   "outputs": [],
   "source": [
    "my_list = [\"red\", \"blue\", \"green\",\"yellow\",\"orange\",\"brown\"]\n",
    "my_dict = {}\n",
    "for i,j in enumerate(my_list):\n",
    "    my_dict[j] = i\n",
    "print(my_dict)"
   ]
  },
  {
   "cell_type": "markdown",
   "id": "8b59d06c-8777-4c71-8734-94d6681d8d54",
   "metadata": {},
   "source": [
    "38. Shuffle the elements of a list randomly."
   ]
  },
  {
   "cell_type": "code",
   "execution_count": null,
   "id": "2967f0f1-489d-4ac0-8c3a-30e0db88485e",
   "metadata": {},
   "outputs": [],
   "source": [
    "import random\n",
    "my_list = [1,2,3,4,5,6,7,8,9,10]\n",
    "random.shuffle(my_list)\n",
    "print(\"The shuffled list is :\",my_list)"
   ]
  },
  {
   "cell_type": "markdown",
   "id": "866be94d-dabe-4e09-9ef7-3b0aeffa768c",
   "metadata": {},
   "source": [
    "39. Create a list of the first 10 factorial numbers."
   ]
  },
  {
   "cell_type": "code",
   "execution_count": null,
   "id": "0e2d5b57-cbe6-4807-829c-ad3cbb4b9f58",
   "metadata": {},
   "outputs": [],
   "source": [
    "factorial_list = []\n",
    "factorial = 1\n",
    "for i in range(1,11):\n",
    "    factorial *= i\n",
    "    factorial_list.append(factorial)\n",
    "    factorial = factorial\n",
    "print(\"List of the first 10 factorial numbers is :\",factorial_list)"
   ]
  },
  {
   "cell_type": "markdown",
   "id": "53437b2c-eec0-4620-ab1e-bde4f9cf8bfd",
   "metadata": {},
   "source": [
    "40. Check if two lists have at least one element in common."
   ]
  },
  {
   "cell_type": "code",
   "execution_count": null,
   "id": "b52eac46-4966-4d84-a248-84462e4ccd3c",
   "metadata": {},
   "outputs": [],
   "source": [
    "list1 = [1,2,3,4,5]\n",
    "list2 = [4,5,6,7,8]\n",
    "flag = 0\n",
    "for i in list1:\n",
    "    if i in list2:\n",
    "        flag = 1\n",
    "if flag == 1:\n",
    "    print(\"There is at least one common element present between the lists\")\n",
    "else:\n",
    "    print(\"There is no common element present between the lists\")"
   ]
  },
  {
   "cell_type": "markdown",
   "id": "3107316d-659d-47f0-80e8-7f37494d145d",
   "metadata": {},
   "source": [
    "41. Remove all elements from a list."
   ]
  },
  {
   "cell_type": "code",
   "execution_count": null,
   "id": "a4cf5854-8f2a-476b-a737-15f0c419bffb",
   "metadata": {},
   "outputs": [],
   "source": [
    "my_list = [1,2,3,4,5,6,7,8,9,10]\n",
    "del my_list[:]\n",
    "print(\"The empty list is :\",my_list)"
   ]
  },
  {
   "cell_type": "markdown",
   "id": "b79fd2f9-36d2-47e5-8a21-cff470641631",
   "metadata": {},
   "source": [
    "42. Replace negative numbers in a list with 0."
   ]
  },
  {
   "cell_type": "code",
   "execution_count": null,
   "id": "4ea9bed6-b6b8-4c27-a271-76e3b3664a91",
   "metadata": {},
   "outputs": [],
   "source": [
    "my_list = [-5,4,-3,2,-1,0,1,-2,3,-4,5,-6,-7]\n",
    "for i,j in enumerate(my_list):\n",
    "    if j < 0:\n",
    "        my_list[i] = 0\n",
    "print(\"The list after replacing negative numbers with 0 is :\",my_list)"
   ]
  },
  {
   "cell_type": "markdown",
   "id": "745bc9a6-dfec-457d-95fd-c261ec876f59",
   "metadata": {},
   "source": [
    "43. Convert a string into a list of words."
   ]
  },
  {
   "cell_type": "code",
   "execution_count": null,
   "id": "813de680-10ad-4651-a7a4-6d36bda93297",
   "metadata": {},
   "outputs": [],
   "source": [
    "input_string = input(\"Enter a string :\")\n",
    "list_of_words = input_string.split()\n",
    "print(\"The list of words is :\",list_of_words)"
   ]
  },
  {
   "cell_type": "markdown",
   "id": "a7a9f397-9cec-4be6-a4bd-77e23916d65d",
   "metadata": {},
   "source": [
    "44. Convert a list of words into a string."
   ]
  },
  {
   "cell_type": "code",
   "execution_count": null,
   "id": "f903da00-487c-459a-b85b-4f432e257707",
   "metadata": {},
   "outputs": [],
   "source": [
    "list_of_words = [\"Hello,\",\"I\",\"am\",\"doing\",\"Python\",\"Progamming\"]\n",
    "string = \" \".join(list_of_words)\n",
    "print(\"The converted string is :\",string)"
   ]
  },
  {
   "cell_type": "markdown",
   "id": "80b21045-d503-4600-9974-7a989c5a68d2",
   "metadata": {},
   "source": [
    "45. Create a list of the first `n` powers of 2."
   ]
  },
  {
   "cell_type": "code",
   "execution_count": null,
   "id": "80f02a6a-10d0-4ae8-b3fe-b6155d1f45a2",
   "metadata": {},
   "outputs": [],
   "source": [
    "output_list = []\n",
    "n = 10\n",
    "for i in range(n):\n",
    "    power = 2 ** i\n",
    "    output_list.append(power)\n",
    "print(\"The list of first\",n,\"powers of 2 is :\",output_list)"
   ]
  },
  {
   "cell_type": "markdown",
   "id": "f5d2feb9-343b-4883-be59-ca0663d24eae",
   "metadata": {},
   "source": [
    "46. Find the longest string in a list of strings."
   ]
  },
  {
   "cell_type": "code",
   "execution_count": null,
   "id": "1c93ccca-c4d4-4a6e-a1df-a5c0245ff162",
   "metadata": {},
   "outputs": [],
   "source": [
    "list_of_strings = [\"zebra\", \"cobra\", \"stork\", \"penguin\", \"shark\", \"lion\"]\n",
    "longest_string = \"\"\n",
    "for i in list_of_strings:\n",
    "    if len(i) > len(longest_string):\n",
    "        longest_string = i\n",
    "print(\"The longest string in the list of strings is :\",longest_string)      "
   ]
  },
  {
   "cell_type": "markdown",
   "id": "103c5e1c-6554-4c8b-90aa-969465cb02ea",
   "metadata": {},
   "source": [
    "47. Find the shortest string in a list of strings."
   ]
  },
  {
   "cell_type": "code",
   "execution_count": null,
   "id": "d0c63074-1789-454b-a1f0-02a3cccabd36",
   "metadata": {},
   "outputs": [],
   "source": [
    "list_of_strings = [\"zebra\", \"cobra\", \"stork\", \"penguin\", \"shark\", \"lion\"]\n",
    "shortest_string = list_of_strings[0]\n",
    "for i in list_of_strings:\n",
    "    if len(i) < len(shortest_string):\n",
    "        shortest_string = i\n",
    "print(\"The shortest string in the list of strings is :\",shortest_string)"
   ]
  },
  {
   "cell_type": "markdown",
   "id": "1a8bab19-cb00-4378-8f32-7e9b38cceea6",
   "metadata": {},
   "source": [
    "48. Create a list of the first `n` triangular numbers."
   ]
  },
  {
   "cell_type": "code",
   "execution_count": null,
   "id": "35791cd4-aacc-4b94-8bff-20df76bcdca8",
   "metadata": {},
   "outputs": [],
   "source": [
    "list_of_triangular_numbers = []\n",
    "n = 10\n",
    "triangular_number = 0\n",
    "for i in range(1,n+1):\n",
    "    triangular_number += i\n",
    "    triangular_number = triangular_number\n",
    "    list_of_triangular_numbers.append(triangular_number)\n",
    "print(\"The list of the first\",n,\"triangular numbers is :\",list_of_triangular_numbers)"
   ]
  },
  {
   "cell_type": "markdown",
   "id": "47f298db-d7bf-4fb5-aefc-e94fc5215f1a",
   "metadata": {},
   "source": [
    "49. Check if a list contains another list as a subsequence."
   ]
  },
  {
   "cell_type": "code",
   "execution_count": null,
   "id": "e891a4aa-b356-4afd-ab11-9547c634b90b",
   "metadata": {},
   "outputs": [],
   "source": [
    "sequence = [1,2,3,4,5,6,7,8]\n",
    "subsequence = [2,4,6]\n",
    "subseq_ptr = 0\n",
    "seq_ptr = 0\n",
    "while seq_ptr < len(sequence) and subseq_ptr < len(subsequence):\n",
    "    if subsequence[subseq_ptr] == sequence[seq_ptr]:\n",
    "        subseq_ptr += 1\n",
    "    seq_ptr += 1\n",
    "if subseq_ptr == len(subsequence):\n",
    "    print(subsequence,\"is a subsequence of \",sequence)\n",
    "else:\n",
    "    print(subsequence,\"is not a subsequence of \",sequence)"
   ]
  },
  {
   "cell_type": "markdown",
   "id": "6980e3f8-1b20-48ba-89c3-de95b1b7ab79",
   "metadata": {},
   "source": [
    "50. Swap two elements in a list by their indices."
   ]
  },
  {
   "cell_type": "code",
   "execution_count": null,
   "id": "949a1139-d4b0-474a-8aa0-6261389bfa37",
   "metadata": {},
   "outputs": [],
   "source": [
    "my_list = [1,2,3,4,5,6,7,8,9,10]\n",
    "index1 = 3\n",
    "index2 = 5\n",
    "element = my_list[index1]\n",
    "my_list[index1] = my_list[index2]\n",
    "my_list[index2] = element\n",
    "print(\"The list after swapping two elements by their indices: \", my_list)"
   ]
  },
  {
   "cell_type": "markdown",
   "id": "7e8a4a4b-4a07-48c6-b253-039c8ddd4303",
   "metadata": {},
   "source": [
    "## Tuple Based Practice Problem :"
   ]
  },
  {
   "cell_type": "markdown",
   "id": "516c8154-8ea9-4746-83eb-1ad13f0c04e5",
   "metadata": {},
   "source": [
    "1. Create a tuple with integers from 1 to 5."
   ]
  },
  {
   "cell_type": "code",
   "execution_count": null,
   "id": "bf9bd2fe-ddd8-4edb-8d8a-06543742a76b",
   "metadata": {},
   "outputs": [],
   "source": [
    "my_list = []\n",
    "for i in range(1,6):\n",
    "    my_list.append(i)\n",
    "output_tuple = tuple(my_list)\n",
    "print(\"The tuple with integers from 1 to 5 is :\",output_tuple)"
   ]
  },
  {
   "cell_type": "markdown",
   "id": "637b03aa-50f5-40f9-92c0-71dc8257989c",
   "metadata": {},
   "source": [
    "2. Access the third element of a tuple."
   ]
  },
  {
   "cell_type": "code",
   "execution_count": null,
   "id": "88c0efbb-eb2d-4b5f-9c5a-8dea27deda6d",
   "metadata": {},
   "outputs": [],
   "source": [
    "my_tuple = (1,2,3,4,5)\n",
    "third_element = my_tuple[2]\n",
    "print(\"The third element of the tuple is :\",third_element)"
   ]
  },
  {
   "cell_type": "markdown",
   "id": "2a9243b9-a63d-49b5-af58-7fd8af7520fe",
   "metadata": {},
   "source": [
    "3. Find the length of a tuple without using the `len()` function."
   ]
  },
  {
   "cell_type": "code",
   "execution_count": null,
   "id": "f4ca434a-6223-4a96-8e7a-d4b17292d79f",
   "metadata": {},
   "outputs": [],
   "source": [
    "my_tuple = (2,4,6,8,10,12,14,16,18,20)\n",
    "length = 0\n",
    "for i in my_tuple:\n",
    "    length += 1\n",
    "print(\"Length of the tuple is :\",length)"
   ]
  },
  {
   "cell_type": "markdown",
   "id": "b1dd0bfc-af49-47cc-a57a-c7a8bfa8a5d4",
   "metadata": {},
   "source": [
    "4. Count the occurrences of an element in a tuple."
   ]
  },
  {
   "cell_type": "code",
   "execution_count": null,
   "id": "9f9de0cf-45c3-4107-b250-7dbb0edf2456",
   "metadata": {},
   "outputs": [],
   "source": [
    "my_tuple = (1,4,2,3,4,5,6,7,4,8,9,10)\n",
    "count = my_tuple.count(4)\n",
    "print(f\"The occurrences of {4} in the tuple is {count} times\")"
   ]
  },
  {
   "cell_type": "markdown",
   "id": "9241bb3b-e3ea-4449-aedc-e071b26624c3",
   "metadata": {},
   "source": [
    "5. Find the index of the first occurrence of an element in a tuple."
   ]
  },
  {
   "cell_type": "code",
   "execution_count": null,
   "id": "e42f438d-f27f-4424-a13e-bb3ceb9cafc9",
   "metadata": {},
   "outputs": [],
   "source": [
    "my_tuple = (1,5,2,3,4,5)\n",
    "element = 5\n",
    "index = 0\n",
    "for i,j in enumerate(my_tuple):\n",
    "    if j == 5:\n",
    "        index = i\n",
    "        break\n",
    "print(f\"The first occurrence of {element} in the tuple is index {index}\")    "
   ]
  },
  {
   "cell_type": "markdown",
   "id": "2db9157e-2905-435e-afd6-62752a4082fd",
   "metadata": {},
   "source": [
    "6. Check if an element exists in a tuple."
   ]
  },
  {
   "cell_type": "code",
   "execution_count": null,
   "id": "25283d1b-9f68-49ce-803d-faf6eecebe32",
   "metadata": {},
   "outputs": [],
   "source": [
    "my_tuple = (1,2,3,4,5,6,7,8,9,10)\n",
    "element = 8\n",
    "if element in my_tuple:\n",
    "    print(\"The element exists in the tuple\")\n",
    "else:\n",
    "    print(\"The element does not exist in the tuple\")"
   ]
  },
  {
   "cell_type": "markdown",
   "id": "03d7b1a3-6b51-4373-ac38-21ccd9e1c7c6",
   "metadata": {},
   "source": [
    "7. Convert a tuple to a list."
   ]
  },
  {
   "cell_type": "code",
   "execution_count": null,
   "id": "374d8e06-b32d-4c61-a241-ba1d1832ec4a",
   "metadata": {},
   "outputs": [],
   "source": [
    "my_tuple = (1,2,3,4,5,6,7,8)\n",
    "my_list = list(my_tuple)\n",
    "print(\"The converted list from the tuple is :\",my_list)"
   ]
  },
  {
   "cell_type": "markdown",
   "id": "0037b6d4-0549-4372-842a-833ff527fac0",
   "metadata": {},
   "source": [
    "8. Convert a list to a tuple."
   ]
  },
  {
   "cell_type": "code",
   "execution_count": null,
   "id": "9387e8ca-07b8-4fd7-883d-4a25406013be",
   "metadata": {},
   "outputs": [],
   "source": [
    "my_list = [1, 2, 3, 4, 5, 6, 7, 8]\n",
    "my_tuple = tuple(my_list)\n",
    "print(\"The converted tuple from the list is :\",my_tuple)"
   ]
  },
  {
   "cell_type": "markdown",
   "id": "42e1240d-069f-4dad-b9e2-9d9faf78c419",
   "metadata": {},
   "source": [
    "9. Unpack the elements of a tuple into variables."
   ]
  },
  {
   "cell_type": "code",
   "execution_count": null,
   "id": "fe4b23af-b49a-469e-868e-9713446c0748",
   "metadata": {},
   "outputs": [],
   "source": [
    "my_tuple = (1,2,3,4,5)\n",
    "a,b,c,d,e = my_tuple\n",
    "print(\"var a :\", a )\n",
    "print(\"var b :\", b )\n",
    "print(\"var c :\", c )\n",
    "print(\"var d :\", d )\n",
    "print(\"var e :\", e )"
   ]
  },
  {
   "cell_type": "markdown",
   "id": "6ba7d92a-4090-4ed8-af6c-ebf89f0fd520",
   "metadata": {},
   "source": [
    "10. Create a tuple of even numbers from 1 to 10."
   ]
  },
  {
   "cell_type": "code",
   "execution_count": null,
   "id": "f7c21f0d-cb3a-4f80-b3d6-711a5af024ae",
   "metadata": {},
   "outputs": [],
   "source": [
    "even_list = []\n",
    "for i in range(1,11):\n",
    "    if i%2 == 0:\n",
    "        even_list.append(i)\n",
    "even_tuple = tuple(even_list)\n",
    "print(\"The tuple of even numbers from 1 to 10 is :\",even_tuple)"
   ]
  },
  {
   "cell_type": "markdown",
   "id": "b83c49a9-0f43-47fb-9fd1-f36bbfca2cda",
   "metadata": {},
   "source": [
    "11. Create a tuple of odd numbers from 1 to 10."
   ]
  },
  {
   "cell_type": "code",
   "execution_count": null,
   "id": "d7b9f9b7-f2da-4054-948b-ada57039c56b",
   "metadata": {},
   "outputs": [],
   "source": [
    "odd_list = []\n",
    "for i in range(1,11):\n",
    "    if i%2 != 0:\n",
    "        odd_list.append(i)\n",
    "odd_tuple = tuple(odd_list)\n",
    "print(\"The tuple of odd numbers from 1 to 10 is :\",odd_tuple)"
   ]
  },
  {
   "cell_type": "markdown",
   "id": "ed868919-bd5d-4568-9469-8f2552687f93",
   "metadata": {},
   "source": [
    "12. Concatenate two tuples."
   ]
  },
  {
   "cell_type": "code",
   "execution_count": null,
   "id": "61977b2a-079a-411c-ab1f-403a713b571c",
   "metadata": {},
   "outputs": [],
   "source": [
    "tuple1 = (1,2,3,4)\n",
    "tuple2 = (5,6,7,8,9,10)\n",
    "concatenated_tuple = tuple1 + tuple2\n",
    "print(\"Concatenated tuple is :\",concatenated_tuple)"
   ]
  },
  {
   "cell_type": "markdown",
   "id": "9dff5cef-e337-453f-9146-f74b7256db1e",
   "metadata": {},
   "source": [
    "13. Repeat a tuple three times."
   ]
  },
  {
   "cell_type": "code",
   "execution_count": null,
   "id": "2c25c744-af9f-4748-8a2b-6779aecbfbc2",
   "metadata": {},
   "outputs": [],
   "source": [
    "my_tuple = (1,2,3,4,5)\n",
    "repeated_tuple = my_tuple * 3\n",
    "print(\"The repeated tuple is :\",repeated_tuple)"
   ]
  },
  {
   "cell_type": "markdown",
   "id": "5ca41e41-ce2a-4eba-82fe-c6a999581c68",
   "metadata": {},
   "source": [
    "14. Check if a tuple is empty."
   ]
  },
  {
   "cell_type": "code",
   "execution_count": null,
   "id": "c40f6f7f-66e7-4420-b0f9-31af87599a6f",
   "metadata": {},
   "outputs": [],
   "source": [
    "my_tuple1 = ()\n",
    "my_tuple2 = (1,2,3,4,5)\n",
    "if len(my_tuple1) == 0:\n",
    "    print(\"The first tuple is empty\")\n",
    "else:\n",
    "    print(\"The first tuple is not empty\")\n",
    "    \n",
    "if len(my_tuple2) == 0:\n",
    "    print(\"The second tuple is empty\")\n",
    "else:\n",
    "    print(\"The second tuple is not empty\")"
   ]
  },
  {
   "cell_type": "markdown",
   "id": "7ee4820d-8eb0-47cb-a161-47b5ec1b0f3f",
   "metadata": {},
   "source": [
    "15. Create a nested tuple."
   ]
  },
  {
   "cell_type": "code",
   "execution_count": null,
   "id": "dde049ab-2724-4b0b-b031-dddd6b27fd66",
   "metadata": {},
   "outputs": [],
   "source": [
    "tuple1 = (1,2,3,4,5),\n",
    "tuple2 = (6,7,8)\n",
    "nested_tuple = tuple1 + tuple2\n",
    "print(\"The nested tuple is :\",nested_tuple)"
   ]
  },
  {
   "cell_type": "markdown",
   "id": "f080e05b-7075-4be7-9dba-64fbf4ef906b",
   "metadata": {},
   "source": [
    "16. Access the first element of a nested tuple."
   ]
  },
  {
   "cell_type": "code",
   "execution_count": null,
   "id": "f4f4477e-c305-4921-9c5e-db761fb1fccf",
   "metadata": {},
   "outputs": [],
   "source": [
    "nested_tuple = ((1,2,3),(4,5,6),(7,8,9),10)\n",
    "first_element = nested_tuple[0]\n",
    "print(\"The first element of the nested tuple is :\",first_element)"
   ]
  },
  {
   "cell_type": "markdown",
   "id": "fbea5947-7fe2-47d1-a875-a5896c172dca",
   "metadata": {},
   "source": [
    "17. Create a tuple with a single element."
   ]
  },
  {
   "cell_type": "code",
   "execution_count": null,
   "id": "4bef6ddc-1cac-4f07-ab44-8b57c27349ef",
   "metadata": {},
   "outputs": [],
   "source": [
    "empty_tuple = ()\n",
    "element_tuple = 1,\n",
    "single_element_tuple = my_tuple + element_tuple\n",
    "print(\"The tuple with a single element is :\",single_element_tuple)"
   ]
  },
  {
   "cell_type": "markdown",
   "id": "f45342b4-9f0f-4fab-90bb-b678490e214b",
   "metadata": {},
   "source": [
    "18. Compare two tuples."
   ]
  },
  {
   "cell_type": "code",
   "execution_count": null,
   "id": "83b2e61c-613a-4a0e-b002-032a826fb9a5",
   "metadata": {},
   "outputs": [],
   "source": [
    "my_tuple1 = (1,2,3,4,5)\n",
    "my_tuple2 = (1,2,3,4,6)\n",
    "\n",
    "print(\"First tuple is equal to second tuple :\", my_tuple1 == my_tuple2)\n",
    "print(\"First tuple is not equal to second tuple :\", my_tuple1 != my_tuple2)\n",
    "print(\"First tuple is less than second tuple :\", my_tuple1 < my_tuple2)\n",
    "print(\"First tuple is greater than second tuple :\", my_tuple1 > my_tuple2)\n",
    "print(\"First tuple is less than or equal to the second tuple :\", my_tuple1 <= my_tuple2)\n",
    "print(\"First tuple is greater than or equal to the second tuple :\", my_tuple1 >= my_tuple2)"
   ]
  },
  {
   "cell_type": "markdown",
   "id": "1422227c-af44-4187-a28a-d1e69c253c29",
   "metadata": {},
   "source": [
    "19. Delete a tuple."
   ]
  },
  {
   "cell_type": "code",
   "execution_count": null,
   "id": "dbd6abdb-fa14-4bd4-a51e-9b644642f6c3",
   "metadata": {},
   "outputs": [],
   "source": [
    "my_tuple = (1,2,3,4,5)\n",
    "del my_tuple"
   ]
  },
  {
   "cell_type": "markdown",
   "id": "d7603871-5a30-4aab-9a5b-83bd63bc3e83",
   "metadata": {},
   "source": [
    "20. Slice a tuple."
   ]
  },
  {
   "cell_type": "code",
   "execution_count": null,
   "id": "0bef48a7-16eb-4ce7-80c2-cb0e391ff29e",
   "metadata": {},
   "outputs": [],
   "source": [
    "my_tuple = (1,2,3,4,5,6,7,8,9,10)\n",
    "sliced_tuple = my_tuple[4:8]\n",
    "print(\"The sliced tuple is :\",sliced_tuple)"
   ]
  },
  {
   "cell_type": "markdown",
   "id": "dae64168-3d4d-49d0-a4e1-85e8dc4116cf",
   "metadata": {},
   "source": [
    "21. Find the maximum value in a tuple."
   ]
  },
  {
   "cell_type": "code",
   "execution_count": null,
   "id": "46cecaf3-a449-44d1-aed9-06cc88fc25d0",
   "metadata": {},
   "outputs": [],
   "source": [
    "my_tuple = (2,14,6,18,10,12,4,16,8,20)\n",
    "maximum_value = max(my_tuple)\n",
    "print(\"The maximum value in the tuple is :\",maximum_value)"
   ]
  },
  {
   "cell_type": "markdown",
   "id": "720d73b1-86ab-452d-a65b-2fcd092278b3",
   "metadata": {},
   "source": [
    "22. Find the minimum value in a tuple."
   ]
  },
  {
   "cell_type": "code",
   "execution_count": null,
   "id": "d5b53648-9e83-4865-aaf5-9fbf10023452",
   "metadata": {},
   "outputs": [],
   "source": [
    "my_tuple = (2,14,6,18,10,12,4,16,8,20)\n",
    "minimum_value = min(my_tuple)\n",
    "print(\"The minimum value in the tuple is :\",minimum_value)"
   ]
  },
  {
   "cell_type": "markdown",
   "id": "d0caebfd-d778-42e5-a9dd-536cb6ece745",
   "metadata": {},
   "source": [
    "23. Convert a string to a tuple of characters."
   ]
  },
  {
   "cell_type": "code",
   "execution_count": null,
   "id": "d5949db5-31af-4277-8ff8-6b3ab47acc37",
   "metadata": {},
   "outputs": [],
   "source": [
    "input_string = input(\"Enter a string :\")\n",
    "tuple_of_characters = tuple(input_string)\n",
    "print(\"The tuple of characters is :\",tuple_of_characters)"
   ]
  },
  {
   "cell_type": "markdown",
   "id": "314afab0-2468-4005-8829-07dc592acbc0",
   "metadata": {},
   "source": [
    "24. Convert a tuple of characters to a string."
   ]
  },
  {
   "cell_type": "code",
   "execution_count": null,
   "id": "e720c9e4-f148-4530-a7f2-2eb87f4deefa",
   "metadata": {},
   "outputs": [],
   "source": [
    "tuple_of_characters = ('P','y','t','h','o','n',' ','P','r','o','g','a','m','m','i','n','g')\n",
    "string = ''.join(tuple_of_characters)\n",
    "print(string)"
   ]
  },
  {
   "cell_type": "markdown",
   "id": "0b510e10-edb5-4160-8eea-ac31dcbf1424",
   "metadata": {},
   "source": [
    "25. Create a tuple from multiple data types."
   ]
  },
  {
   "cell_type": "code",
   "execution_count": null,
   "id": "a88179a5-34a4-4b95-b24e-528c56ba3099",
   "metadata": {},
   "outputs": [],
   "source": [
    "my_tuple = (5,\"Python\",8.5,True)\n",
    "print(\"The tuple from multiple data types is :\",my_tuple)"
   ]
  },
  {
   "cell_type": "markdown",
   "id": "53eabd17-f37c-48a5-975b-1f0297e167d0",
   "metadata": {},
   "source": [
    "26. Check if two tuples are identical."
   ]
  },
  {
   "cell_type": "code",
   "execution_count": null,
   "id": "121283cc-5c44-4611-9964-8cb11275daa5",
   "metadata": {},
   "outputs": [],
   "source": [
    "tuple1 = (1,2,3,4,5)\n",
    "tuple2 = (1,2,3,4,5)\n",
    "tuple3 = (1,2,3,4,6)\n",
    "\n",
    "result1 = tuple1 == tuple2\n",
    "result2 = tuple1 == tuple3\n",
    "if result1:\n",
    "    print(\"Tuple1 and tuple2 are identical\")\n",
    "else:\n",
    "    print(\"Tuple1 and tuple2 are not identical\")\n",
    "\n",
    "if result2:\n",
    "    print(\"Tuple1 and tuple3 are identical\")\n",
    "else:\n",
    "    print(\"Tuple1 and tuple3 are not identical\")"
   ]
  },
  {
   "cell_type": "markdown",
   "id": "dd7904a8-1271-4e5e-8648-39a537809554",
   "metadata": {},
   "source": [
    "27. Sort the elements of a tuple."
   ]
  },
  {
   "cell_type": "code",
   "execution_count": null,
   "id": "30047c50-eded-4d73-8300-7ca7c74c598f",
   "metadata": {},
   "outputs": [],
   "source": [
    "my_tuple = (2,8,4,10,6,3,5,9,1,7)\n",
    "result = sorted(my_tuple)\n",
    "sorted_tuple = tuple(result)\n",
    "print(\"The sorted tuple is :\",sorted_tuple)"
   ]
  },
  {
   "cell_type": "markdown",
   "id": "6bb27c64-ae7a-45b2-8222-b6a00f0fac9d",
   "metadata": {},
   "source": [
    "28. Convert a tuple of integers to a tuple of strings."
   ]
  },
  {
   "cell_type": "code",
   "execution_count": null,
   "id": "28b81085-35a8-4800-a6bd-3f7e87d1c7d3",
   "metadata": {},
   "outputs": [],
   "source": [
    "tuple_of_integers = (2,4,6,8,10,12,14,16,18,20)\n",
    "my_list = list(tuple_of_integers)\n",
    "list_of_strings = []\n",
    "for i in my_list:\n",
    "    list_of_strings.append(str(i))\n",
    "tuple_of_strings = tuple(list_of_strings)\n",
    "print(\"The tuple of strings is :\",tuple_of_strings)"
   ]
  },
  {
   "cell_type": "markdown",
   "id": "041a6568-fac4-4185-af54-039bab7131e2",
   "metadata": {},
   "source": [
    "29. Convert a tuple of strings to a tuple of integers."
   ]
  },
  {
   "cell_type": "code",
   "execution_count": null,
   "id": "64333441-52ee-43e0-8402-783b4adb2a79",
   "metadata": {},
   "outputs": [],
   "source": [
    "tuple_of_strings = ('2','4','6','8','10','12','14','16','18','20')\n",
    "my_list = list(tuple_of_strings)\n",
    "list_of_integers = []\n",
    "for i in my_list:\n",
    "    list_of_integers.append(int(i))\n",
    "tuple_of_integers = tuple(list_of_integers)\n",
    "print(\"The tuple of integers is :\",tuple_of_integers)"
   ]
  },
  {
   "cell_type": "markdown",
   "id": "28b021c9-8dd0-4e5a-965f-8ca9a915be23",
   "metadata": {},
   "source": [
    "30. Merge two tuples."
   ]
  },
  {
   "cell_type": "code",
   "execution_count": null,
   "id": "5a9dea81-48de-40f5-b00e-89c0797d450b",
   "metadata": {},
   "outputs": [],
   "source": [
    "tuple1 = (1,2,3,4,5,6)\n",
    "tuple2 = (7,8,9,10)\n",
    "merged_tuple = tuple1 + tuple2 \n",
    "print(\"The merged tuple is :\",merged_tuple)"
   ]
  },
  {
   "cell_type": "markdown",
   "id": "8417e9e1-9624-4390-bff6-52e5aa0a39a5",
   "metadata": {},
   "source": [
    "31. Flatten a nested tuple."
   ]
  },
  {
   "cell_type": "code",
   "execution_count": null,
   "id": "78222be6-7c09-40d0-9994-01c947298017",
   "metadata": {},
   "outputs": [],
   "source": [
    "nested_tuple = (1,2,3,(4,5,6),7,8,9,10)\n",
    "my_list = list(nested_tuple)\n",
    "flatten_list = []\n",
    "for i in my_list:\n",
    "    if isinstance(i,tuple):\n",
    "        flatten_list.extend(i)\n",
    "    else:\n",
    "        flatten_list.append(i)\n",
    "flatten_tuple = tuple(flatten_list)\n",
    "print(\"The flattened tuple is :\",flatten_tuple)"
   ]
  },
  {
   "cell_type": "markdown",
   "id": "aad6c13a-d090-46cd-a131-3623d4fc9198",
   "metadata": {},
   "source": [
    "32. Create a tuple of the first 5 prime numbers."
   ]
  },
  {
   "cell_type": "code",
   "execution_count": null,
   "id": "e3df055f-6256-4fb1-a182-59560ec91901",
   "metadata": {},
   "outputs": [],
   "source": [
    "prime_list = []\n",
    "for i in range(6):\n",
    "    if i == 0 or i == 1:\n",
    "        continue\n",
    "    for j in range(2,i):\n",
    "        if i%j == 0:\n",
    "            break\n",
    "    else:\n",
    "        prime_list.append(i)\n",
    "prime_tuple = tuple(prime_list)\n",
    "print(\"The tuple of the first 5 prime_tuple)"
   ]
  },
  {
   "cell_type": "markdown",
   "id": "373374fb-017f-4c55-b423-2c1139843f64",
   "metadata": {},
   "source": [
    "33. Check if a tuple is a palindrome."
   ]
  },
  {
   "cell_type": "code",
   "execution_count": null,
   "id": "5b047539-4fc6-46ff-ad61-1d3820fd16b6",
   "metadata": {},
   "outputs": [],
   "source": [
    "my_tuple1 = (1,2,3,4,3,2,1)\n",
    "my_tuple2 = (1,2,3,4,2,3,1)\n",
    "\n",
    "result1 = my_tuple1 == my_tuple1[::-1]\n",
    "result2 = my_tuple2 == my_tuple2[::-1]\n",
    "if result1:\n",
    "    print(\"The first tuple is palindrome\")\n",
    "else:\n",
    "    print(\"The first tuple is not palindrome\")\n",
    "\n",
    "if result2:\n",
    "    print(\"The second tuple is palindrome\")\n",
    "else:\n",
    "    print(\"The second tuple is not palindrome\")"
   ]
  },
  {
   "cell_type": "markdown",
   "id": "88e020f9-9448-4d09-aae6-e46e6003346c",
   "metadata": {},
   "source": [
    "34. Create a tuple of squares of numbers from 1 to 5."
   ]
  },
  {
   "cell_type": "code",
   "execution_count": null,
   "id": "14db797e-1c58-42c0-a2b9-f81a07808ed8",
   "metadata": {},
   "outputs": [],
   "source": [
    "squared_list = []\n",
    "for i in range(1,6):\n",
    "    squared_list.append(i*i)\n",
    "squared_tuple = tuple(squared_list)\n",
    "print(\"The tuple of squares of numbers from 1 to 5  is :\",squared_tuple)"
   ]
  },
  {
   "cell_type": "markdown",
   "id": "86aedabb-e4da-4f1e-b5e3-6af842617970",
   "metadata": {},
   "source": [
    "35. Filter out all even numbers from a tuple."
   ]
  },
  {
   "cell_type": "code",
   "execution_count": null,
   "id": "aee40e29-b060-4e5b-b1c8-805e761b56d9",
   "metadata": {},
   "outputs": [],
   "source": [
    "my_tuple = (1,2,3,4,5,6,7,8,9,10)\n",
    "my_list = list(my_tuple)\n",
    "result_list = []\n",
    "for i in my_list:\n",
    "    if i%2 == 0:\n",
    "        result_list.append(i)\n",
    "filtered_tuple = tuple(result_list)\n",
    "print(\"The filtered tuple is :\",filtered_tuple)"
   ]
  },
  {
   "cell_type": "markdown",
   "id": "de7e321d-0f48-4a2f-9f0a-9c4c05ac5c45",
   "metadata": {},
   "source": [
    "36. Multiply all elements in a tuple by 2."
   ]
  },
  {
   "cell_type": "code",
   "execution_count": null,
   "id": "464071f0-161f-4f4a-957c-edee71b0c011",
   "metadata": {},
   "outputs": [],
   "source": [
    "my_tuple = (1,2,3,4,5)\n",
    "my_list = list(my_tuple)\n",
    "result_list = []\n",
    "for i in my_tuple:\n",
    "    result_list.append(i*2)\n",
    "multiplied_tuple = tuple(result_list)\n",
    "print(\"The multiplied tuple is :\",multiplied_tuple)"
   ]
  },
  {
   "cell_type": "markdown",
   "id": "a9496e5e-6111-4b92-9f4e-dec1f1998a3d",
   "metadata": {},
   "source": [
    "37. Create a tuple of random numbers."
   ]
  },
  {
   "cell_type": "code",
   "execution_count": null,
   "id": "031832bc-7646-43de-af4c-9b1da236326c",
   "metadata": {},
   "outputs": [],
   "source": [
    "import random\n",
    "random_list = []\n",
    "for i in range(1,11):\n",
    "    random_list.append(random.randint(1,50))\n",
    "random_tuple = tuple(random_list)\n",
    "print(\"The tuple of random numbers is :\",random_tuple)"
   ]
  },
  {
   "cell_type": "markdown",
   "id": "bb234c72-ec39-4f0b-86af-36e512cb7965",
   "metadata": {},
   "source": [
    "38. Check if a tuple is sorted."
   ]
  },
  {
   "cell_type": "code",
   "execution_count": null,
   "id": "03a1fa81-3940-42a1-87d8-6bd423530b5c",
   "metadata": {},
   "outputs": [],
   "source": [
    "my_tuple1 = (1,2,3,4,5,6)\n",
    "my_tuple2 = (2,8,3,9,5,10)\n",
    "result1 = my_tuple1 == tuple(sorted(my_tuple1))\n",
    "result2 = my_tuple2 == tuple(sorted(my_tuple2))\n",
    "if result1:\n",
    "    print(\"First tuple is sorted\")\n",
    "else:\n",
    "    print(\"First tuple is not sorted\")\n",
    "    \n",
    "if result2:\n",
    "     print(\"Second tuple is sorted\")\n",
    "else:\n",
    "    print(\"Second tuple is not sorted\")"
   ]
  },
  {
   "cell_type": "markdown",
   "id": "37d95cf9-10dd-4807-b165-ccb43be2640f",
   "metadata": {},
   "source": [
    "39. Rotate a tuple to the left by `n` positions."
   ]
  },
  {
   "cell_type": "code",
   "execution_count": null,
   "id": "3009c0f5-8315-4a93-b8fd-1bc1717a71cf",
   "metadata": {},
   "outputs": [],
   "source": [
    "my_tuple = (1,2,3,4,5,6,7,8,9,10)\n",
    "n = 3\n",
    "n = n % len(my_tuple)\n",
    "rotated_tuple = my_tuple[n:] + my_tuple[:n]\n",
    "print(\"The rotated tuple is :\",rotated_tuple)"
   ]
  },
  {
   "cell_type": "markdown",
   "id": "0a888e75-9f19-466a-9dc9-dd325e247794",
   "metadata": {},
   "source": [
    "40. Rotate a tuple to the right by `n` positions."
   ]
  },
  {
   "cell_type": "code",
   "execution_count": null,
   "id": "a3cf9f03-2414-4970-8c3e-0e8ab0c7e863",
   "metadata": {},
   "outputs": [],
   "source": [
    "my_tuple = (1,2,3,4,5,6,7,8,9,10)\n",
    "n = 4\n",
    "n = n % len(my_tuple)\n",
    "rotated_tuple = my_tuple[-n:] + my_tuple[:-n]\n",
    "print(\"The rotated tuple is :\",rotated_tuple)"
   ]
  },
  {
   "cell_type": "markdown",
   "id": "9d5a105b-3271-49d9-9a67-a906bcbff05c",
   "metadata": {},
   "source": [
    "41. Create a tuple of the first 5 Fibonacci numbers."
   ]
  },
  {
   "cell_type": "code",
   "execution_count": null,
   "id": "123b116f-be24-47bf-8a21-fa3cc3a1c607",
   "metadata": {},
   "outputs": [],
   "source": [
    "fibonacci_numbers = [0,1]\n",
    "i = 2\n",
    "while i < 5:\n",
    "    next_number = fibonacci_numbers[i-1] + fibonacci_numbers[i-2]\n",
    "    fibonacci_numbers.append(next_number)\n",
    "    i += 1\n",
    "fibonacci_tuple = tuple(fibonacci_numbers)\n",
    "print(\"The tuple of the first 5 Fibonacci numbers is :\",fibonacci_tuple)"
   ]
  },
  {
   "cell_type": "markdown",
   "id": "c3f99e68-8f4f-4561-ac3d-218fb21ffc1c",
   "metadata": {},
   "source": [
    "42. Create a tuple from user input."
   ]
  },
  {
   "cell_type": "code",
   "execution_count": null,
   "id": "a5cdd5e2-a345-4b37-b423-da35733c38e5",
   "metadata": {},
   "outputs": [],
   "source": [
    "user_input = input(\"Enter elements of the tuple :\")\n",
    "input_list = []\n",
    "for i in user_input:\n",
    "    input_list.append(i)\n",
    "user_input_tuple = tuple(input_list)   \n",
    "print(\"The tuple from user input is :\",user_input_tuple)"
   ]
  },
  {
   "cell_type": "markdown",
   "id": "fd154d94-a471-4dd0-8892-4f2d87c0ed92",
   "metadata": {},
   "source": [
    "43. Swap two elements in a tuple."
   ]
  },
  {
   "cell_type": "code",
   "execution_count": null,
   "id": "93b5d375-edca-4e24-af77-313d46454b3f",
   "metadata": {},
   "outputs": [],
   "source": [
    "my_tuple = (1,2,3,4,5)\n",
    "swaped_list = []\n",
    "element1 = 1\n",
    "element2 = 4\n",
    "for i in my_tuple:\n",
    "    if i == element1:\n",
    "        i = element2\n",
    "        swaped_list.append(i)\n",
    "    elif i == element2:\n",
    "        i = element1\n",
    "        swaped_list.append(i)\n",
    "    else:\n",
    "        swaped_list.append(i)\n",
    "swaped_tuple = tuple(swaped_list)\n",
    "print(\"The swapped tuple is :\",swaped_tuple)"
   ]
  },
  {
   "cell_type": "markdown",
   "id": "5f1bb0e9-dfe2-4b4a-be21-1f503ed7277e",
   "metadata": {},
   "source": [
    "44. Reverse the elements of a tuple."
   ]
  },
  {
   "cell_type": "code",
   "execution_count": null,
   "id": "728da24e-0e40-45d3-95e7-f9da6776dfe8",
   "metadata": {},
   "outputs": [],
   "source": [
    "my_tuple = (1,2,3,4,5,6,7,8,9,10)\n",
    "reversed_tuple = my_tuple[::-1]\n",
    "print(\"The reversed tuple is :\",reversed_tuple)"
   ]
  },
  {
   "cell_type": "markdown",
   "id": "6d17a017-f0a6-4623-835c-5f02f7cbca46",
   "metadata": {},
   "source": [
    "45. Create a tuple of the first `n` powers of 2."
   ]
  },
  {
   "cell_type": "code",
   "execution_count": null,
   "id": "d396591c-bb09-4586-a0b8-0d230b3004d7",
   "metadata": {},
   "outputs": [],
   "source": [
    "n = 10\n",
    "my_list = []\n",
    "for i in range(n):\n",
    "    my_list.append(2**i)\n",
    "result_tuple = tuple(my_list)\n",
    "print(f\"The tuple of the first {n} powers of 2 is :\",result_tuple)"
   ]
  },
  {
   "cell_type": "markdown",
   "id": "40675107-960f-4e99-bb7c-440c1e8ad471",
   "metadata": {},
   "source": [
    "46. Find the longest string in a tuple of strings."
   ]
  },
  {
   "cell_type": "code",
   "execution_count": null,
   "id": "17e9c14d-6809-412e-888f-9c4557f911ff",
   "metadata": {},
   "outputs": [],
   "source": [
    "my_tuple = (\"red\",\"yellow\",\"black\",\"brown\",\"green\",\"blue\")\n",
    "longest_string = \"\"\n",
    "for i in my_tuple:\n",
    "    if len(i) > len(longest_string):\n",
    "        longest_string = i\n",
    "print(\"The longest string in the tuple is :\",longest_string)"
   ]
  },
  {
   "cell_type": "markdown",
   "id": "c90f3293-a05b-4274-b095-0206b2a8f365",
   "metadata": {},
   "source": [
    "47. Find the shortest string in a tuple of strings."
   ]
  },
  {
   "cell_type": "code",
   "execution_count": null,
   "id": "e4e5ae4a-1232-4fd5-beed-8e2e3557a525",
   "metadata": {},
   "outputs": [],
   "source": [
    "my_tuple = (\"red\",\"yellow\",\"black\",\"brown\",\"green\",\"blue\")\n",
    "shortest_string = my_tuple[0]\n",
    "for i in my_tuple:\n",
    "    if len(i) < len(shortest_string):\n",
    "        shortest_string = i\n",
    "print(\"The shortest string in the tuple is :\",shortest_string)"
   ]
  },
  {
   "cell_type": "markdown",
   "id": "bbece09a-ba06-41c7-837f-0e93a9427f08",
   "metadata": {},
   "source": [
    "48. Create a tuple of the first `n` triangular numbers."
   ]
  },
  {
   "cell_type": "code",
   "execution_count": null,
   "id": "080c4980-b3e2-4e8d-9786-720b9ae1a98f",
   "metadata": {},
   "outputs": [],
   "source": [
    "n = 10\n",
    "result_list = []\n",
    "triangular_number = 0\n",
    "for i in range(1,n+1):\n",
    "    triangular_number = triangular_number + i\n",
    "    result_list.append(triangular_number)\n",
    "    triangular_number = triangular_number\n",
    "result_tuple = tuple(result_list)\n",
    "print(f\"The tuple of the first {n} triangular numbers is :\",result_tuple)"
   ]
  },
  {
   "cell_type": "markdown",
   "id": "10f51b57-5ac0-47f2-8763-310a927da059",
   "metadata": {},
   "source": [
    "49. Check if a tuple contains another tuple as a subsequence."
   ]
  },
  {
   "cell_type": "code",
   "execution_count": null,
   "id": "3efad00e-8d20-4809-a166-4a8f1e3b5366",
   "metadata": {},
   "outputs": [],
   "source": [
    "sequence_tuple = (1,2,3,4,5,6)\n",
    "subsequence_tuple = (2,5,4)\n",
    "seq_ptr = 0\n",
    "subseq_ptr = 0\n",
    "while seq_ptr < len(sequence_tuple) and subseq_ptr < len(subsequence_tuple):\n",
    "    if sequence_tuple[seq_ptr] == subsequence_tuple[subseq_ptr]:\n",
    "        subseq_ptr += 1\n",
    "    seq_ptr += 1\n",
    "if subseq_ptr == len(subsequence_tuple):\n",
    "    print(\"The first tuple contains second tuple as a subsequence\")\n",
    "else:\n",
    "    print(\"The first tuple does not contain second tuple as a subsequence\")"
   ]
  },
  {
   "cell_type": "markdown",
   "id": "9f2681dd-241f-43be-9cb4-1fbb9ebf1f6e",
   "metadata": {},
   "source": [
    "50. Create a tuple of alternating 1s and 0s of length `n`."
   ]
  },
  {
   "cell_type": "code",
   "execution_count": null,
   "id": "f890ebae-1521-478e-b730-baa416a20a92",
   "metadata": {},
   "outputs": [],
   "source": [
    "n = 10\n",
    "alternating_list = []\n",
    "for i in range(n):\n",
    "    alternating_list.append(i%2)\n",
    "alternating_tuple = tuple(alternating_list)\n",
    "print(f\"The tuple of alternting 1s and 0s of length {n} is :\", alternating_tuple)"
   ]
  },
  {
   "cell_type": "markdown",
   "id": "6bd955e2-5d5f-434c-8c76-6655dd2fef07",
   "metadata": {},
   "source": [
    "## Set Based Practice Problem :"
   ]
  },
  {
   "cell_type": "markdown",
   "id": "afe7a5eb-9447-4ea5-843f-a9104227ec92",
   "metadata": {},
   "source": [
    "1. Create a set with integers from 1 to 5."
   ]
  },
  {
   "cell_type": "code",
   "execution_count": null,
   "id": "59e16ba2-b37e-42b3-905c-7c8603673abe",
   "metadata": {},
   "outputs": [],
   "source": [
    "my_set = set()\n",
    "for i in range(1,6):\n",
    "    my_set.add(i)\n",
    "print(\"The set with integers from 1 to 5 is :\",my_set)"
   ]
  },
  {
   "cell_type": "markdown",
   "id": "5ffaaa27-738f-4da9-9b05-a27e4556f0a2",
   "metadata": {},
   "source": [
    "2. Add an element to a set."
   ]
  },
  {
   "cell_type": "code",
   "execution_count": null,
   "id": "702f50a4-8cc5-4498-a86b-90aefcd53544",
   "metadata": {},
   "outputs": [],
   "source": [
    "my_set = {1,2,3,4}\n",
    "element = 5\n",
    "my_set.add(element)\n",
    "print(\"The set after adding the element is :\",my_set)"
   ]
  },
  {
   "cell_type": "markdown",
   "id": "a1f0cf96-77a3-4dba-b667-257f937c12f1",
   "metadata": {},
   "source": [
    "3. Remove an element from a set."
   ]
  },
  {
   "cell_type": "code",
   "execution_count": null,
   "id": "171c8fe5-ccf3-4a9a-8d97-95f81901d018",
   "metadata": {},
   "outputs": [],
   "source": [
    "my_set = {1,2,3,4,5}\n",
    "element = 3\n",
    "my_set.remove(element)\n",
    "print(\"The set after removing the element is :\",my_set)"
   ]
  },
  {
   "cell_type": "markdown",
   "id": "254618fa-5696-45c6-bf7e-7723a5df6052",
   "metadata": {},
   "source": [
    "4. Check if an element exists in a set."
   ]
  },
  {
   "cell_type": "code",
   "execution_count": null,
   "id": "85abeb5a-445e-4521-8420-d3620edd63a7",
   "metadata": {},
   "outputs": [],
   "source": [
    "my_set = {1,2,3,4,5}\n",
    "element = 1\n",
    "if element in my_set:\n",
    "    print(\"The element exists in the set\")\n",
    "else:\n",
    "    print(\"The element does not exist in the set\")"
   ]
  },
  {
   "cell_type": "markdown",
   "id": "ef8faf9d-c8f6-49a4-b9c5-7a65f3be7f50",
   "metadata": {},
   "source": [
    "5. Find the length of a set without using the `len()` function."
   ]
  },
  {
   "cell_type": "code",
   "execution_count": null,
   "id": "dcbadde4-221c-44fc-bef5-b9dcd0825ee3",
   "metadata": {},
   "outputs": [],
   "source": [
    "my_set = {1,2,3,4,5,6,7,8,9,10}\n",
    "length = 0\n",
    "for i in my_set:\n",
    "    length += 1\n",
    "print(\"The length of the set is :\",length)"
   ]
  },
  {
   "cell_type": "markdown",
   "id": "787171d2-6a92-4f09-8cbf-e5850f349801",
   "metadata": {},
   "source": [
    "6. Clear all elements from a set."
   ]
  },
  {
   "cell_type": "code",
   "execution_count": null,
   "id": "4924d1d4-19c4-45d4-8914-8f6b489a60ff",
   "metadata": {},
   "outputs": [],
   "source": [
    "my_set = {1,2,3,4,5}\n",
    "my_set.clear()\n",
    "print(\"The set after clearing all the elements is :\",my_set)"
   ]
  },
  {
   "cell_type": "markdown",
   "id": "d83777e1-3339-4582-938b-50c33e2205ce",
   "metadata": {},
   "source": [
    "7. Create a set of even numbers from 1 to 10."
   ]
  },
  {
   "cell_type": "code",
   "execution_count": null,
   "id": "d1dc04ee-09cd-45dc-aa8e-e9f78af09a29",
   "metadata": {},
   "outputs": [],
   "source": [
    "even_set = set()\n",
    "for i in range(1,11):\n",
    "    if i%2 == 0:\n",
    "        even_set.add(i)\n",
    "print(\"The set of even numbers from 1 to 10 is :\",even_set)"
   ]
  },
  {
   "cell_type": "markdown",
   "id": "ce68915e-6328-4439-bfbd-a862976228c6",
   "metadata": {},
   "source": [
    "8. Create a set of odd numbers from 1 to 10."
   ]
  },
  {
   "cell_type": "code",
   "execution_count": null,
   "id": "9bba9e34-3619-42da-b436-d774757fb9f9",
   "metadata": {},
   "outputs": [],
   "source": [
    "odd_set = set()\n",
    "for i in range(1,11):\n",
    "    if i%2 != 0:\n",
    "        odd_set.add(i)\n",
    "print(\"The set of odd numbers from 1 to 10 is :\",odd_set)"
   ]
  },
  {
   "cell_type": "markdown",
   "id": "326e6235-49f3-4abe-bc8b-af1192f00870",
   "metadata": {},
   "source": [
    "9. Find the union of two sets."
   ]
  },
  {
   "cell_type": "code",
   "execution_count": null,
   "id": "f49ba567-8a8a-4860-a13a-01e7dcc2a4b4",
   "metadata": {},
   "outputs": [],
   "source": [
    "my_set1 = {1,2,3,4,5,6,7}\n",
    "my_set2 = {4,5,6,7,8,9,10}\n",
    "result = my_set1.union(my_set2)\n",
    "print(\"The union of two sets :\",result)"
   ]
  },
  {
   "cell_type": "markdown",
   "id": "826a59d4-0c53-4ea2-b7c5-3b341c317053",
   "metadata": {},
   "source": [
    "10. Find the intersection of two sets."
   ]
  },
  {
   "cell_type": "code",
   "execution_count": null,
   "id": "6436704b-1321-4958-9b6a-934f725031bf",
   "metadata": {},
   "outputs": [],
   "source": [
    "my_set1 = {1,2,3,4,5,6,7}\n",
    "my_set2 = {4,5,6,7,8,9,10}\n",
    "result = my_set1.intersection(my_set2)\n",
    "print(\"The intersection of two sets :\",result)"
   ]
  },
  {
   "cell_type": "markdown",
   "id": "2cd4e7e2-e8a7-41d2-bc04-225b66bf715a",
   "metadata": {},
   "source": [
    "11. Find the difference between two sets."
   ]
  },
  {
   "cell_type": "code",
   "execution_count": null,
   "id": "bb9fed50-1d7d-4890-9903-b303cd0bd18d",
   "metadata": {},
   "outputs": [],
   "source": [
    "my_set1 = {1,2,3,4,5,6,7}\n",
    "my_set2 = {4,5,6,7,8,9,10}\n",
    "result = my_set1.difference(my_set2)\n",
    "print(\"The difference between two sets :\",result)"
   ]
  },
  {
   "cell_type": "markdown",
   "id": "04f58f12-ff7c-40a5-b56d-3ea85d8433cf",
   "metadata": {},
   "source": [
    "12. Check if a set is a subset of another set."
   ]
  },
  {
   "cell_type": "code",
   "execution_count": null,
   "id": "3c41e7e4-d3b4-412f-90bc-bc936e044116",
   "metadata": {},
   "outputs": [],
   "source": [
    "my_set1 = {1,2,3,4,5}\n",
    "my_set2 = {1,2,3,4,5,6,7,8,9,10}\n",
    "result = my_set1.issubset(my_set2)\n",
    "if result:\n",
    "    print(\"The first set is a subset of the second set\")\n",
    "else:\n",
    "    print(\"The first set is not a subset of the second set\")"
   ]
  },
  {
   "cell_type": "markdown",
   "id": "e4739666-fd81-4c33-8032-0c0cedc69638",
   "metadata": {},
   "source": [
    "13. Check if a set is a superset of another set."
   ]
  },
  {
   "cell_type": "code",
   "execution_count": null,
   "id": "f7435e0c-33fa-4aa8-ad2f-34fc1dc99036",
   "metadata": {},
   "outputs": [],
   "source": [
    "my_set1 = {1,2,3,4,5,6}\n",
    "my_set2 = {1,2,3,4}\n",
    "result = my_set1.issuperset(my_set2)\n",
    "if result:\n",
    "    print(\"The first set is a superset of the second set\")\n",
    "else:\n",
    "    print(\"The first set is not a superset of the second set\")"
   ]
  },
  {
   "cell_type": "markdown",
   "id": "dbd4fb3a-7ea2-4a81-8a52-5d855d120597",
   "metadata": {},
   "source": [
    "14. Create a set from a list."
   ]
  },
  {
   "cell_type": "code",
   "execution_count": null,
   "id": "02bcf31d-12ca-4931-8d99-25f4306a7186",
   "metadata": {},
   "outputs": [],
   "source": [
    "my_list = [1,2,3,4,5,6,7,8,9,10]\n",
    "my_set = set(my_list)\n",
    "print(\"The set from the list is :\",my_set)"
   ]
  },
  {
   "cell_type": "markdown",
   "id": "4d4b08d0-46ac-4984-9850-65ebed6d4e27",
   "metadata": {},
   "source": [
    "15. Convert a set to a list."
   ]
  },
  {
   "cell_type": "code",
   "execution_count": null,
   "id": "6f2bb7ce-ba50-4169-a640-45c3482329b0",
   "metadata": {},
   "outputs": [],
   "source": [
    "my_set = {1,2,3,4,5,6,7,8,9,10}\n",
    "my_list = list(my_set)\n",
    "print(\"The converted list from the set is :\",my_list)"
   ]
  },
  {
   "cell_type": "markdown",
   "id": "691d98cc-77d0-433f-95e9-09f6d1309615",
   "metadata": {},
   "source": [
    "16. Remove a random element from a set."
   ]
  },
  {
   "cell_type": "code",
   "execution_count": null,
   "id": "f93fda40-a2b7-456d-85b9-2ac9db418527",
   "metadata": {},
   "outputs": [],
   "source": [
    "import random\n",
    "my_set = {2,4,6,8,10,12,14,16,18,20}\n",
    "random_element = random.choice(list(my_set))\n",
    "my_set.remove(random_element)\n",
    "print(f\"The set after removing the random element({random_element}) is :\",my_set)"
   ]
  },
  {
   "cell_type": "markdown",
   "id": "a874471f-8f2f-4048-ac99-29117deb4c28",
   "metadata": {},
   "source": [
    "17. Pop an element from a set."
   ]
  },
  {
   "cell_type": "code",
   "execution_count": null,
   "id": "2b4e4db9-d3ca-42af-b44d-62c1cc74f1be",
   "metadata": {},
   "outputs": [],
   "source": [
    "my_set = {2,4,9,7,5,3,6,8,1,10}\n",
    "my_set.pop()\n",
    "print(f\"The set after popping an element is :\", my_set)"
   ]
  },
  {
   "cell_type": "markdown",
   "id": "0704fef6-a903-4ac6-8ecd-74bfd2adaffb",
   "metadata": {},
   "source": [
    "18. Check if two sets have no elements in common."
   ]
  },
  {
   "cell_type": "code",
   "execution_count": null,
   "id": "c48a1b92-287f-48a3-b54b-beaa8b684ea6",
   "metadata": {
    "tags": []
   },
   "outputs": [],
   "source": [
    "my_set1 = {1,2,3,4,5,6}\n",
    "my_set2 = {6,7,8,9,10,12}\n",
    "result = my_set1.intersection(my_set2)\n",
    "if result:\n",
    "    print(\"The first set and the second set have elements in common\")\n",
    "else:\n",
    "    print(\"The first set and the second set have no elements in common\")"
   ]
  },
  {
   "cell_type": "markdown",
   "id": "7309aee1-b3d2-4201-8000-1d9fc97fb760",
   "metadata": {},
   "source": [
    "19. Find the symmetric difference between two sets."
   ]
  },
  {
   "cell_type": "code",
   "execution_count": null,
   "id": "b301669c-a845-4a5e-9c6a-d992a8502bed",
   "metadata": {},
   "outputs": [],
   "source": [
    "my_set1 = {1,2,3,4,5,6}\n",
    "my_set2 = {5,6,7,8,9,10}\n",
    "symmetric_difference = my_set1.symmetric_difference(my_set2)\n",
    "print(\"The symmetric difference between two sets is :\",symmetric_difference)"
   ]
  },
  {
   "cell_type": "markdown",
   "id": "4085f673-cb8b-4c75-b034-1ef4d27806a9",
   "metadata": {},
   "source": [
    "20. Update a set with elements from another set."
   ]
  },
  {
   "cell_type": "code",
   "execution_count": null,
   "id": "83d4ca01-44c6-480c-bb70-26c312d80a56",
   "metadata": {},
   "outputs": [],
   "source": [
    "my_set1 = {1,2,3,4,5,6,7}\n",
    "my_set2 = {8,9,10}\n",
    "my_set1.update(my_set2)\n",
    "print(\"The first set after updating is :\",my_set1)"
   ]
  },
  {
   "cell_type": "markdown",
   "id": "4ab14820-b194-48fb-8209-401e17574dc9",
   "metadata": {},
   "source": [
    "21. Create a set of the first 5 prime numbers."
   ]
  },
  {
   "cell_type": "code",
   "execution_count": null,
   "id": "5b983ab3-cdbe-4dc0-91ca-9c7080a712d9",
   "metadata": {},
   "outputs": [],
   "source": [
    "prime_set = set()\n",
    "for i in range(2,20):\n",
    "    for j in range(2,i):\n",
    "        if i%j == 0:\n",
    "            break\n",
    "        else:\n",
    "            if len(prime_set) > 4:\n",
    "                break\n",
    "            prime_set.add(i)\n",
    "print(prime_set)"
   ]
  },
  {
   "cell_type": "markdown",
   "id": "b6fcdccd-de4c-4cc4-93de-1f6f6f04eba8",
   "metadata": {},
   "source": [
    "22. Check if two sets are identical."
   ]
  },
  {
   "cell_type": "code",
   "execution_count": null,
   "id": "1998fd93-98cd-4018-837d-f789dbed2cd5",
   "metadata": {},
   "outputs": [],
   "source": [
    "my_set1 = {1,2,3,4,5}\n",
    "my_set2 = {1,2,3,4,6}\n",
    "if my_set1 == my_set2:\n",
    "    print(\"The first set and the second set are identical\")\n",
    "else:\n",
    "    print(\"The first set and the second set are not identical\")"
   ]
  },
  {
   "cell_type": "markdown",
   "id": "dc532286-d32c-4a00-8923-0c0156751fb5",
   "metadata": {},
   "source": [
    "23. Create a frozen set."
   ]
  },
  {
   "cell_type": "code",
   "execution_count": null,
   "id": "062f10d5-296c-4752-aace-3d366cad148b",
   "metadata": {},
   "outputs": [],
   "source": [
    "elements = [1,2,3,4,5,6,7,8,9,10]\n",
    "frozen_set = frozenset(elements)\n",
    "print(\"The frozen set is :\",frozen_set)"
   ]
  },
  {
   "cell_type": "markdown",
   "id": "0518e125-350d-430c-b7c7-34d0085c7953",
   "metadata": {},
   "source": [
    "24. Check if a set is disjoint with another set."
   ]
  },
  {
   "cell_type": "code",
   "execution_count": null,
   "id": "77a5be0a-4afe-4cac-9cc1-1389d80fbbcd",
   "metadata": {},
   "outputs": [],
   "source": [
    "my_set1 = {1,2,3,4,5}\n",
    "my_set2 = {6,7,8,9,10}\n",
    "result = my_set1.isdisjoint(my_set2)\n",
    "if result:\n",
    "    print(\"The two sets are disjoint\")\n",
    "else:\n",
    "    print(\"The two sets are not disjoint\")"
   ]
  },
  {
   "cell_type": "markdown",
   "id": "6ca9e25a-0b92-42f5-b051-10ea323d3fcc",
   "metadata": {},
   "source": [
    "25. Create a set of squares of numbers from 1 to 5."
   ]
  },
  {
   "cell_type": "code",
   "execution_count": null,
   "id": "926659a2-6ad8-458e-a589-3468776b6951",
   "metadata": {},
   "outputs": [],
   "source": [
    "my_set = set()\n",
    "for i in range(1,6):\n",
    "    my_set.add(i*i)\n",
    "print(\"The set of squares of numbers from 1 to 5 is :\",my_set)"
   ]
  },
  {
   "cell_type": "markdown",
   "id": "d8fdd6d8-c32a-4003-9747-b9406218b0ba",
   "metadata": {},
   "source": [
    "26. Filter out all even numbers from a set."
   ]
  },
  {
   "cell_type": "code",
   "execution_count": null,
   "id": "2148aab7-d9d8-454f-9c3e-923e1c3ef6fc",
   "metadata": {},
   "outputs": [],
   "source": [
    "my_set = {1,2,3,4,5,6,7,8,9,10}\n",
    "even_set = set()\n",
    "for i in my_set:\n",
    "    if i%2 == 0:\n",
    "        even_set.add(i)\n",
    "print(\"The set after filtering out all even numbers is :\",even_set)"
   ]
  },
  {
   "cell_type": "markdown",
   "id": "18abda19-6b05-46ed-a82a-f5e11e623bb6",
   "metadata": {},
   "source": [
    "27. Multiply all elements in a set by 2."
   ]
  },
  {
   "cell_type": "code",
   "execution_count": null,
   "id": "6cbadec9-52ab-4af2-9744-40766665cbcc",
   "metadata": {},
   "outputs": [],
   "source": [
    "my_set = {1,2,3,4,5}\n",
    "multiplied_set = set()\n",
    "for i in my_set:\n",
    "    multiplied_set.add(i*2)\n",
    "print(\"The set after multiplying all elements by 2 is :\", multiplied_set)"
   ]
  },
  {
   "cell_type": "markdown",
   "id": "ebd6645b-9d75-4736-b599-62850c9319b6",
   "metadata": {},
   "source": [
    "28. Create a set of random numbers."
   ]
  },
  {
   "cell_type": "code",
   "execution_count": null,
   "id": "1dd240a3-ab1d-4b5f-b7b1-afa92c459d88",
   "metadata": {},
   "outputs": [],
   "source": [
    "import random\n",
    "my_set = set()\n",
    "for i in range(1,11):\n",
    "    my_set.add(random.randint(1,50))\n",
    "print(\"The set of random numbers is :\",my_set)"
   ]
  },
  {
   "cell_type": "markdown",
   "id": "54c13833-ea0b-490e-bd21-3ea4139bf2bd",
   "metadata": {},
   "source": [
    "29. Check if a set is empty."
   ]
  },
  {
   "cell_type": "code",
   "execution_count": null,
   "id": "7521e727-2f71-489b-b9b7-4dd6db8aad7b",
   "metadata": {},
   "outputs": [],
   "source": [
    "my_set1 = set()\n",
    "my_set2 = {1,2,3,4,5}\n",
    "result1 = len(my_set1) == 0\n",
    "result2 = len(my_set2) == 0\n",
    "if result1:\n",
    "    print(\"The first set is empty\")\n",
    "else:\n",
    "    print(\"The first set is not empty\")\n",
    "    \n",
    "if result2:\n",
    "    print(\"The second set is empty\")\n",
    "else:\n",
    "    print(\"The second set is not empty\")"
   ]
  },
  {
   "cell_type": "markdown",
   "id": "daa47d2a-26c5-488b-bd04-9d955e2f24fe",
   "metadata": {},
   "source": [
    "30. Create a nested set (hint: use frozenset)."
   ]
  },
  {
   "cell_type": "code",
   "execution_count": null,
   "id": "491dbea2-5ada-4e07-8b94-c095d88b0f5f",
   "metadata": {},
   "outputs": [],
   "source": [
    "my_set1 = {1,2,3,4,5}\n",
    "my_set2 = {6,7,8,9,10}\n",
    "frozenset1 = frozenset(my_set1)\n",
    "frozenset2 = frozenset(my_set2)\n",
    "nested_set = {frozenset1,frozenset2}\n",
    "print(\"The nested set is :\",nested_set)"
   ]
  },
  {
   "cell_type": "markdown",
   "id": "3658841f-698f-480f-8882-13fae309592b",
   "metadata": {},
   "source": [
    "31. Remove an element from a set using the discard method."
   ]
  },
  {
   "cell_type": "code",
   "execution_count": null,
   "id": "d54e0195-33a6-4ba4-8ee2-9d1847fec03b",
   "metadata": {},
   "outputs": [],
   "source": [
    "my_set = {2,9,3,10,4,6,8,1,7,5}\n",
    "element = 10\n",
    "my_set.discard(element)\n",
    "print(f\"The set after removing the element({element}) is :\", my_set)"
   ]
  },
  {
   "cell_type": "markdown",
   "id": "bbb5a2d0-5676-4d62-a06d-29b63a1b7ebd",
   "metadata": {},
   "source": [
    "32. Compare two sets."
   ]
  },
  {
   "cell_type": "code",
   "execution_count": null,
   "id": "fc86c4eb-d55c-40c1-bcb3-f13d496009ab",
   "metadata": {},
   "outputs": [],
   "source": [
    "my_set1 = {1,2,3,4,5}\n",
    "my_set2 = {4,5,6,7,8}\n",
    "subset = my_set1.issubset(my_set2)\n",
    "superset = my_set1.issuperset(my_set2)\n",
    "union = my_set1.union(my_set2)\n",
    "intersection = my_set1.intersection(my_set2)\n",
    "difference1 = my_set1.difference(my_set2)\n",
    "difference2 = my_set2.difference(my_set1)\n",
    "if subset:\n",
    "    print(\"The first set is a subset of the second set\")\n",
    "else:\n",
    "    print(\"The first set is not a subset of the second set\")\n",
    "if superset:\n",
    "    print(\"The first set is a superset of the second set\")\n",
    "else:\n",
    "    print(\"The first set is not a superset of the second set\")\n",
    "print(\"Union of the two sets is :\",union)\n",
    "print(\"Intersection of the two sets is :\",intersection)\n",
    "print(\"Elements which are in the first set but not in the second set is :\",difference1)\n",
    "print(\"Elements which are in the second set but not in the first set is :\",difference2)"
   ]
  },
  {
   "cell_type": "markdown",
   "id": "cb29e66f-bf73-43e4-a64e-0b6040674871",
   "metadata": {},
   "source": [
    "33. Create a set from a string."
   ]
  },
  {
   "cell_type": "code",
   "execution_count": null,
   "id": "2eb04116-bac0-46d7-9af6-c0a48f4c958c",
   "metadata": {},
   "outputs": [],
   "source": [
    "my_string = \"python\"\n",
    "my_set = set(my_string)\n",
    "print(\"The set from the string is :\",my_set)"
   ]
  },
  {
   "cell_type": "markdown",
   "id": "30e0999e-49d2-46dc-b06c-0b1f2beb5761",
   "metadata": {},
   "source": [
    "34. Convert a set of strings to a set of integers."
   ]
  },
  {
   "cell_type": "code",
   "execution_count": null,
   "id": "10c22ab1-f33e-44b2-9d95-13a4637e651b",
   "metadata": {},
   "outputs": [],
   "source": [
    "set_of_strings = {'1','2','3','4','5'}\n",
    "set_of_integers = set()\n",
    "for i in set_of_strings:\n",
    "    set_of_integers.add(int(i))\n",
    "print(\"The set of integers is :\",set_of_integers)"
   ]
  },
  {
   "cell_type": "markdown",
   "id": "51679072-74aa-494c-ae2a-f85dc5e1ccdb",
   "metadata": {},
   "source": [
    "35. Convert a set of integers to a set of strings."
   ]
  },
  {
   "cell_type": "code",
   "execution_count": null,
   "id": "6da0525a-2f8a-4a53-ad6c-2ef9c004bc0e",
   "metadata": {},
   "outputs": [],
   "source": [
    "set_of_integers = {1, 2, 3, 4, 5}\n",
    "set_of_strings = set()\n",
    "for i in set_of_integers:\n",
    "    set_of_strings.add(str(i))\n",
    "print(\"The set of strings is :\",set_of_strings)"
   ]
  },
  {
   "cell_type": "markdown",
   "id": "03fbca95-bae3-4cbd-a18d-4cad7de088d7",
   "metadata": {},
   "source": [
    "36. Create a set from a tuple."
   ]
  },
  {
   "cell_type": "code",
   "execution_count": null,
   "id": "bd961534-50d3-47c2-9887-884bc814bc08",
   "metadata": {},
   "outputs": [],
   "source": [
    "my_tuple = (1,2,3,4,5)\n",
    "my_set = set(my_tuple)\n",
    "print(\"The set from the tuple is :\",my_set)"
   ]
  },
  {
   "cell_type": "markdown",
   "id": "0152b47a-5e42-478c-a106-057d1409f0c0",
   "metadata": {},
   "source": [
    "37. Convert a set to a tuple."
   ]
  },
  {
   "cell_type": "code",
   "execution_count": null,
   "id": "525aab3a-626c-438e-9c8f-6f93e5758b2f",
   "metadata": {},
   "outputs": [],
   "source": [
    "my_set = {1,2,3,4,5}\n",
    "my_tuple = tuple(my_set)\n",
    "print(\"The tuple from the set is :\",my_tuple)"
   ]
  },
  {
   "cell_type": "markdown",
   "id": "48267421-953e-4568-80ca-7bcc5af7806c",
   "metadata": {},
   "source": [
    "38. Find the maximum value in a set."
   ]
  },
  {
   "cell_type": "code",
   "execution_count": null,
   "id": "b0b1b525-d7f4-4c98-a53d-832c01c9f8a2",
   "metadata": {},
   "outputs": [],
   "source": [
    "my_set = {2,4,10,8,9,5,1,6,7,3}\n",
    "max_value = max(my_set)\n",
    "print(\"The maximum value in the set is :\",max_value)"
   ]
  },
  {
   "cell_type": "markdown",
   "id": "6773ab4c-b73d-47c9-abbe-02b314135f72",
   "metadata": {},
   "source": [
    "39. Find the minimum value in a set."
   ]
  },
  {
   "cell_type": "code",
   "execution_count": null,
   "id": "e21ca141-78a9-4d9a-9cba-e98619561f77",
   "metadata": {},
   "outputs": [],
   "source": [
    "my_set = {2,4,10,8,9,5,1,6,7,3}\n",
    "min_value = min(my_set)\n",
    "print(\"The minimum value in the set is :\",min_value)"
   ]
  },
  {
   "cell_type": "markdown",
   "id": "c876dc79-59de-4da8-96ef-8cdb25ba3eee",
   "metadata": {},
   "source": [
    "40. Create a set from user input."
   ]
  },
  {
   "cell_type": "code",
   "execution_count": null,
   "id": "e6dadd2a-8374-4b13-a58b-b5e10b4dae80",
   "metadata": {},
   "outputs": [],
   "source": [
    "input_elements = input(\"Enter the elements of the set seperated by space:\")\n",
    "modified_elements = input_elements.split(\" \")\n",
    "result_set = set()\n",
    "for i in modified_elements:\n",
    "    result_set.add(i)\n",
    "print(\"The set from user input is :\",result_set)"
   ]
  },
  {
   "cell_type": "markdown",
   "id": "b1bd44f6-db76-4448-9643-f2d513576af4",
   "metadata": {},
   "source": [
    "41. Check if the intersection of two sets is empty."
   ]
  },
  {
   "cell_type": "code",
   "execution_count": null,
   "id": "dccc88ac-f667-4eb7-865f-996116adaae1",
   "metadata": {},
   "outputs": [],
   "source": [
    "my_set1 = {1,2,3,4,5}\n",
    "my_set2 = {6,7,8,9,10}\n",
    "result = my_set1.intersection(my_set2)\n",
    "if result:\n",
    "    print(\"The intersection of two sets is not empty\")\n",
    "else:\n",
    "    print(\"The intersection of two sets is empty\")"
   ]
  },
  {
   "cell_type": "markdown",
   "id": "87964ba0-1621-4836-8966-d22584a32fdf",
   "metadata": {},
   "source": [
    "42. Create a set of the first 5 Fibonacci numbers."
   ]
  },
  {
   "cell_type": "code",
   "execution_count": null,
   "id": "93c02b91-b52f-44b6-a7ee-7ecf6faa0cd6",
   "metadata": {},
   "outputs": [],
   "source": [
    "fibonacci_set = set()\n",
    "a,b = 0,1\n",
    "for i in range(6):\n",
    "        fibonacci_set.add(a)\n",
    "        a ,b = b, a+b\n",
    "print(fibonacci_set)"
   ]
  },
  {
   "cell_type": "markdown",
   "id": "ef2434e1-e965-4b92-a496-676fdb7d245f",
   "metadata": {},
   "source": [
    "43. Remove duplicates from a list using sets."
   ]
  },
  {
   "cell_type": "code",
   "execution_count": null,
   "id": "5f2f3d7f-ebbc-4fad-b899-7dc722c1a02c",
   "metadata": {},
   "outputs": [],
   "source": [
    "my_list = [2,4,5,2,3,1,5,3,4,1]\n",
    "result_set = set(my_list)\n",
    "print(\"The set after removing duplicates from the list is :\",result_set)"
   ]
  },
  {
   "cell_type": "markdown",
   "id": "05aeb40a-1959-45c2-b5b4-e138a54d5d42",
   "metadata": {},
   "source": [
    "44. Check if two sets have the same elements, regardless of their count."
   ]
  },
  {
   "cell_type": "code",
   "execution_count": null,
   "id": "4059c6ea-f57c-4da7-a955-55cbd1825f37",
   "metadata": {},
   "outputs": [],
   "source": [
    "my_set1 = {1,4,6,8,9,10,5,3,7,2,2,3,5,8,9}\n",
    "my_set2 = {8,2,10,3,6,4,7,1,5,9}\n",
    "result = sorted(list(my_set1)) == sorted(list(my_set2))\n",
    "if result:\n",
    "    print(\"Two sets have the same elements\")\n",
    "else:\n",
    "    print(\"Two sets do not have the same elements\")"
   ]
  },
  {
   "cell_type": "markdown",
   "id": "d22cfed3-6a75-4f99-bc8f-24272f9443e1",
   "metadata": {},
   "source": [
    "45. Create a set of the first `n` powers of 2."
   ]
  },
  {
   "cell_type": "code",
   "execution_count": null,
   "id": "c6c692ca-9530-49c2-98e2-2fceea9a0096",
   "metadata": {},
   "outputs": [],
   "source": [
    "n = 5\n",
    "result_set = set()\n",
    "for i in range(n):\n",
    "    result_set.add(2**i)\n",
    "print(f\"The set of the first {n} powers of 2 is :\", result_set)"
   ]
  },
  {
   "cell_type": "markdown",
   "id": "09f30639-371e-451e-aad6-2036ff7b6e58",
   "metadata": {},
   "source": [
    "46. Find the common elements between a set and a list."
   ]
  },
  {
   "cell_type": "code",
   "execution_count": null,
   "id": "ee10e6f7-15a6-48af-a404-011ae243454b",
   "metadata": {},
   "outputs": [],
   "source": [
    "my_set = {1,2,3,4,5,6}\n",
    "my_list = [4,5,6,7,8,9]\n",
    "modified_list = set(my_list)\n",
    "common_elements = my_set.intersection(modified_list)\n",
    "print(\"The common elements between the set and the list are :\",common_elements)"
   ]
  },
  {
   "cell_type": "markdown",
   "id": "685b34d7-a039-434e-b5f1-57ff71226ee6",
   "metadata": {},
   "source": [
    "47. Create a set of the first `n` triangular numbers."
   ]
  },
  {
   "cell_type": "code",
   "execution_count": null,
   "id": "1dd75e60-4a28-4b3e-9d04-1b6b43acfd3f",
   "metadata": {},
   "outputs": [],
   "source": [
    "n = 5\n",
    "triangular_set = set()\n",
    "triangular_number = 0\n",
    "for i in range(1,n+1):\n",
    "    triangular_number += i\n",
    "    triangular_set.add(triangular_number)\n",
    "print(f\"The set of the first {n} triangular numbers is :\",triangular_set)"
   ]
  },
  {
   "cell_type": "markdown",
   "id": "a3f08c39-a74c-4d02-9a94-09a3e4ea1659",
   "metadata": {},
   "source": [
    "48. Check if a set contains another set as a subset."
   ]
  },
  {
   "cell_type": "code",
   "execution_count": null,
   "id": "44047ac3-d430-454e-80fc-d68d90c41e3c",
   "metadata": {},
   "outputs": [],
   "source": [
    "my_set1 = {1,2,3,4,5,6,7,8,9,10}\n",
    "my_set2 = {3,4,5}\n",
    "result = my_set2.issubset(my_set1)\n",
    "if result:\n",
    "    print(\"The second set is a subset of the first set\")\n",
    "else:\n",
    "    print(\"The second set is not a subset of the first set\")"
   ]
  },
  {
   "cell_type": "markdown",
   "id": "72119978-17e7-4f67-a338-0c2650eb5888",
   "metadata": {},
   "source": [
    "49. Create a set of alternating 1s and 0s of length `n`."
   ]
  },
  {
   "cell_type": "code",
   "execution_count": null,
   "id": "c517d197-f226-40bb-bae4-4c5e4732af3d",
   "metadata": {},
   "outputs": [],
   "source": [
    "n = 10\n",
    "alternating_set = set()\n",
    "for i in range(n):\n",
    "    if i%2 != 0:\n",
    "        alternating_set.add(0)\n",
    "    else:\n",
    "        alternating_set.add(1)\n",
    "print(alternating_set)"
   ]
  },
  {
   "cell_type": "markdown",
   "id": "1aef2667-4594-4054-8ac3-fd6ed588b7a1",
   "metadata": {},
   "source": [
    "50. Merge multiple sets into one."
   ]
  },
  {
   "cell_type": "code",
   "execution_count": null,
   "id": "033e49c3-da3f-42d6-9470-8c120af73072",
   "metadata": {},
   "outputs": [],
   "source": [
    "my_set1 = {1,2,3,4}\n",
    "my_set2 = {3,4,5,6}\n",
    "my_set2 = {5,6,7,8}\n",
    "result_set = my_set1.union(my_set2,my_set2)\n",
    "print(\"The merged set is :\",result_set)"
   ]
  }
 ],
 "metadata": {
  "kernelspec": {
   "display_name": "Python 3 (ipykernel)",
   "language": "python",
   "name": "python3"
  },
  "language_info": {
   "codemirror_mode": {
    "name": "ipython",
    "version": 3
   },
   "file_extension": ".py",
   "mimetype": "text/x-python",
   "name": "python",
   "nbconvert_exporter": "python",
   "pygments_lexer": "ipython3",
   "version": "3.10.8"
  }
 },
 "nbformat": 4,
 "nbformat_minor": 5
}
