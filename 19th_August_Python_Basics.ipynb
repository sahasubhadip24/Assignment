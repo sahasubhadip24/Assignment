{
 "cells": [
  {
   "cell_type": "markdown",
   "id": "ef987caa-20ba-4bf5-973e-a788360d2adb",
   "metadata": {
    "jp-MarkdownHeadingCollapsed": true,
    "tags": []
   },
   "source": [
    "TOPIC : Python Basics Variable"
   ]
  },
  {
   "cell_type": "markdown",
   "id": "bafffa5b-073c-4dfa-b6ab-4c5967c01904",
   "metadata": {
    "jp-MarkdownHeadingCollapsed": true,
    "tags": []
   },
   "source": [
    "1. Declare two variables, `x` and `y`, and assign them integer values. Swap the values of these variables without using any temporary variable."
   ]
  },
  {
   "cell_type": "code",
   "execution_count": 5,
   "id": "bd55e15b-fd4d-4e6c-a18a-e4a12305ce85",
   "metadata": {},
   "outputs": [
    {
     "name": "stdout",
     "output_type": "stream",
     "text": [
      "x = 20\n",
      "y = 10\n"
     ]
    }
   ],
   "source": [
    "x = 10 # Declaring the variables and assigning integer values to them\n",
    "y = 20\n",
    "x,y = y,x # Swapping the variables\n",
    "print(\"x =\",x)# After swapping, printing the variables\n",
    "print(\"y =\",y)"
   ]
  },
  {
   "cell_type": "markdown",
   "id": "bacf8574-7c83-4ec9-948b-92a1f32e9092",
   "metadata": {},
   "source": [
    "2. Create a program that calculates the area of a rectangle. Take the length and width as inputs from the user and store them in variables. Calculate and display the area."
   ]
  },
  {
   "cell_type": "code",
   "execution_count": 6,
   "id": "5e4820ca-e369-47f1-980c-bef1e58c3a3c",
   "metadata": {},
   "outputs": [
    {
     "name": "stdin",
     "output_type": "stream",
     "text": [
      "Enter the length of the rectangle : 5\n",
      "Enter the width of the rectangle : 6\n"
     ]
    },
    {
     "name": "stdout",
     "output_type": "stream",
     "text": [
      "The area of the rectangle is : 30.0\n"
     ]
    }
   ],
   "source": [
    "length = float(input(\"Enter the length of the rectangle :\")) # Taking inputs from user and storing them in variables\n",
    "width = float(input(\"Enter the width of the rectangle :\"))\n",
    "area = length * width # Calculating the area of the rectangle  \n",
    "print(\"The area of the rectangle is :\",area) # Printing the area of the rectangle"
   ]
  },
  {
   "cell_type": "markdown",
   "id": "282e7b97-1027-4539-9878-510accb6de1e",
   "metadata": {},
   "source": [
    "3. Write a Python program that converts temperatures from Celsius to Fahrenheit. Take the temperature in Celsius as input, store it in a variable, convert it to Fahrenheit, and display the result."
   ]
  },
  {
   "cell_type": "code",
   "execution_count": 7,
   "id": "d554e60f-cc91-459c-ae6e-a8e5a27eabd2",
   "metadata": {},
   "outputs": [
    {
     "name": "stdin",
     "output_type": "stream",
     "text": [
      "Enter temperature in Celsius : 50\n"
     ]
    },
    {
     "name": "stdout",
     "output_type": "stream",
     "text": [
      "Fahrenheit temperature is : 122.0\n"
     ]
    }
   ],
   "source": [
    "c = float(input(\"Enter temperature in Celsius :\")) # Taking the temperature in Celsius and storing it in a variable\n",
    "f = (c*(9/5)+32) # Calculating the temperature in Fahrenheit\n",
    "print(\"Fahrenheit temperature is :\",f ) # Printing the temperature in Fahrenheit"
   ]
  },
  {
   "cell_type": "markdown",
   "id": "209e4508-231d-4ae3-8c98-749c688b4a02",
   "metadata": {},
   "source": [
    "TOPIC : String Based Questions"
   ]
  },
  {
   "cell_type": "markdown",
   "id": "944d200b-9ed1-40f4-992b-aa129c2c4e10",
   "metadata": {},
   "source": [
    "1. Write a Python program that takes a string as input and prints the length of the string.\n"
   ]
  },
  {
   "cell_type": "code",
   "execution_count": 8,
   "id": "a9a79600-8f62-4ef7-93f6-14f1b9af96b0",
   "metadata": {},
   "outputs": [
    {
     "ename": "KeyboardInterrupt",
     "evalue": "Interrupted by user",
     "output_type": "error",
     "traceback": [
      "\u001b[0;31m---------------------------------------------------------------------------\u001b[0m",
      "\u001b[0;31mKeyboardInterrupt\u001b[0m                         Traceback (most recent call last)",
      "Cell \u001b[0;32mIn[8], line 1\u001b[0m\n\u001b[0;32m----> 1\u001b[0m string \u001b[38;5;241m=\u001b[39m \u001b[38;5;28;43minput\u001b[39;49m\u001b[43m(\u001b[49m\u001b[38;5;124;43m\"\u001b[39;49m\u001b[38;5;124;43mEnter a string :\u001b[39;49m\u001b[38;5;124;43m\"\u001b[39;49m\u001b[43m)\u001b[49m \u001b[38;5;66;03m# Taing a string as input\u001b[39;00m\n\u001b[1;32m      2\u001b[0m length \u001b[38;5;241m=\u001b[39m \u001b[38;5;28mlen\u001b[39m(string) \u001b[38;5;66;03m# Calculating the length of the string\u001b[39;00m\n\u001b[1;32m      3\u001b[0m \u001b[38;5;28mprint\u001b[39m(\u001b[38;5;124m\"\u001b[39m\u001b[38;5;124mThe length of the string is :\u001b[39m\u001b[38;5;124m\"\u001b[39m,length) \u001b[38;5;66;03m# Printing the length of the string\u001b[39;00m\n",
      "File \u001b[0;32m/opt/conda/lib/python3.10/site-packages/ipykernel/kernelbase.py:1175\u001b[0m, in \u001b[0;36mKernel.raw_input\u001b[0;34m(self, prompt)\u001b[0m\n\u001b[1;32m   1171\u001b[0m \u001b[38;5;28;01mif\u001b[39;00m \u001b[38;5;129;01mnot\u001b[39;00m \u001b[38;5;28mself\u001b[39m\u001b[38;5;241m.\u001b[39m_allow_stdin:\n\u001b[1;32m   1172\u001b[0m     \u001b[38;5;28;01mraise\u001b[39;00m StdinNotImplementedError(\n\u001b[1;32m   1173\u001b[0m         \u001b[38;5;124m\"\u001b[39m\u001b[38;5;124mraw_input was called, but this frontend does not support input requests.\u001b[39m\u001b[38;5;124m\"\u001b[39m\n\u001b[1;32m   1174\u001b[0m     )\n\u001b[0;32m-> 1175\u001b[0m \u001b[38;5;28;01mreturn\u001b[39;00m \u001b[38;5;28;43mself\u001b[39;49m\u001b[38;5;241;43m.\u001b[39;49m\u001b[43m_input_request\u001b[49m\u001b[43m(\u001b[49m\n\u001b[1;32m   1176\u001b[0m \u001b[43m    \u001b[49m\u001b[38;5;28;43mstr\u001b[39;49m\u001b[43m(\u001b[49m\u001b[43mprompt\u001b[49m\u001b[43m)\u001b[49m\u001b[43m,\u001b[49m\n\u001b[1;32m   1177\u001b[0m \u001b[43m    \u001b[49m\u001b[38;5;28;43mself\u001b[39;49m\u001b[38;5;241;43m.\u001b[39;49m\u001b[43m_parent_ident\u001b[49m\u001b[43m[\u001b[49m\u001b[38;5;124;43m\"\u001b[39;49m\u001b[38;5;124;43mshell\u001b[39;49m\u001b[38;5;124;43m\"\u001b[39;49m\u001b[43m]\u001b[49m\u001b[43m,\u001b[49m\n\u001b[1;32m   1178\u001b[0m \u001b[43m    \u001b[49m\u001b[38;5;28;43mself\u001b[39;49m\u001b[38;5;241;43m.\u001b[39;49m\u001b[43mget_parent\u001b[49m\u001b[43m(\u001b[49m\u001b[38;5;124;43m\"\u001b[39;49m\u001b[38;5;124;43mshell\u001b[39;49m\u001b[38;5;124;43m\"\u001b[39;49m\u001b[43m)\u001b[49m\u001b[43m,\u001b[49m\n\u001b[1;32m   1179\u001b[0m \u001b[43m    \u001b[49m\u001b[43mpassword\u001b[49m\u001b[38;5;241;43m=\u001b[39;49m\u001b[38;5;28;43;01mFalse\u001b[39;49;00m\u001b[43m,\u001b[49m\n\u001b[1;32m   1180\u001b[0m \u001b[43m\u001b[49m\u001b[43m)\u001b[49m\n",
      "File \u001b[0;32m/opt/conda/lib/python3.10/site-packages/ipykernel/kernelbase.py:1217\u001b[0m, in \u001b[0;36mKernel._input_request\u001b[0;34m(self, prompt, ident, parent, password)\u001b[0m\n\u001b[1;32m   1214\u001b[0m             \u001b[38;5;28;01mbreak\u001b[39;00m\n\u001b[1;32m   1215\u001b[0m \u001b[38;5;28;01mexcept\u001b[39;00m \u001b[38;5;167;01mKeyboardInterrupt\u001b[39;00m:\n\u001b[1;32m   1216\u001b[0m     \u001b[38;5;66;03m# re-raise KeyboardInterrupt, to truncate traceback\u001b[39;00m\n\u001b[0;32m-> 1217\u001b[0m     \u001b[38;5;28;01mraise\u001b[39;00m \u001b[38;5;167;01mKeyboardInterrupt\u001b[39;00m(\u001b[38;5;124m\"\u001b[39m\u001b[38;5;124mInterrupted by user\u001b[39m\u001b[38;5;124m\"\u001b[39m) \u001b[38;5;28;01mfrom\u001b[39;00m \u001b[38;5;28mNone\u001b[39m\n\u001b[1;32m   1218\u001b[0m \u001b[38;5;28;01mexcept\u001b[39;00m \u001b[38;5;167;01mException\u001b[39;00m:\n\u001b[1;32m   1219\u001b[0m     \u001b[38;5;28mself\u001b[39m\u001b[38;5;241m.\u001b[39mlog\u001b[38;5;241m.\u001b[39mwarning(\u001b[38;5;124m\"\u001b[39m\u001b[38;5;124mInvalid Message:\u001b[39m\u001b[38;5;124m\"\u001b[39m, exc_info\u001b[38;5;241m=\u001b[39m\u001b[38;5;28;01mTrue\u001b[39;00m)\n",
      "\u001b[0;31mKeyboardInterrupt\u001b[0m: Interrupted by user"
     ]
    }
   ],
   "source": [
    "string = input(\"Enter a string :\") # Taing a string as input\n",
    "length = len(string) # Calculating the length of the string\n",
    "print(\"The length of the string is :\",length) # Printing the length of the string"
   ]
  },
  {
   "cell_type": "markdown",
   "id": "fc660a41-dc52-4898-a1eb-7de91fc41c0c",
   "metadata": {},
   "source": [
    "2. Create a program that takes a sentence from the user and counts the number of vowels (a, e, i, o, u) in the string."
   ]
  },
  {
   "cell_type": "code",
   "execution_count": null,
   "id": "32ed5767-d619-46b5-bd95-c3230d0538e3",
   "metadata": {},
   "outputs": [],
   "source": [
    "sentence = input(\"Enter a sentance :\") # Taking a sentence as input\n",
    "vowels = 'a','e','i','o','u' # Initializing 'vowels' variable with 'a','e','i','o','u'\n",
    "count = 0 # Initializing 'count' variabel with 0\n",
    "for i in sentence: # Running a for loop to access each character of the sentence\n",
    "    lower = i.lower() # Converting uppercase character to lowercase character\n",
    "    if lower in vowels: # Checking if the character is a vowel\n",
    "        count += 1 # If vowel is present, incrementing 'count' variable with 1 and storing it\n",
    "print(\"Number of vowels are :\",count) # Printing the number of vowels present in the sentence"
   ]
  },
  {
   "cell_type": "markdown",
   "id": "405a9af8-f15f-48c7-8d92-534919ab1900",
   "metadata": {},
   "source": [
    "3. Given a string, reverse the order of characters using string slicing and print the reversed string."
   ]
  },
  {
   "cell_type": "code",
   "execution_count": null,
   "id": "b82bb487-4c97-4021-a090-95091ad3052f",
   "metadata": {},
   "outputs": [],
   "source": [
    "string = input(\"Enter a string :\") # Taking a string as input \n",
    "reverse_string = string[::-1] # Reversing the order of characters of the string\n",
    "print(\"Reverse string is :\",reverse_string) # Printing the reversed string"
   ]
  },
  {
   "cell_type": "markdown",
   "id": "75a8dcdd-b139-4ee9-b52e-166172acc6a6",
   "metadata": {},
   "source": [
    "4. Write a program that takes a string as input and checks if it is a palindrome (reads the same forwards and backwards).\n"
   ]
  },
  {
   "cell_type": "code",
   "execution_count": null,
   "id": "ec2d3fd8-dd49-43f0-b2ae-5da28b40415c",
   "metadata": {},
   "outputs": [],
   "source": [
    "string = input(\"Enter a string :\") # Taking a string as input\n",
    "modified_string = string.lower() # Coverting input string to lowercase \n",
    "reverse_string = modified_string[::-1] # Reversing the string\n",
    "if modified_string == reverse_string: # Checking if the string is palindrome or not\n",
    "    print(\"The input string is a palindrome\")\n",
    "else:\n",
    "    print(\"The input string is not palindrome\")"
   ]
  },
  {
   "cell_type": "markdown",
   "id": "6d22efba-d6a9-475a-8a5d-b9fd097eb384",
   "metadata": {},
   "source": [
    "5. Create a program that takes a string as input and removes all the spaces from it. Print the modified string without spaces."
   ]
  },
  {
   "cell_type": "code",
   "execution_count": null,
   "id": "be9c4b8f-dc3f-4bf1-8a52-ed57804ac8c0",
   "metadata": {},
   "outputs": [],
   "source": [
    "string = input(\"Enter a string :\") # Taking a string as input\n",
    "modified_string = string.replace(\" \",\"\") # Removing all spaces from the string\n",
    "print(\"The modified string is :\",modified_string) # Printing the modified string"
   ]
  },
  {
   "cell_type": "code",
   "execution_count": null,
   "id": "c9f5c73d-7b37-48e9-9fa3-29a598a4ee28",
   "metadata": {},
   "outputs": [],
   "source": []
  }
 ],
 "metadata": {
  "kernelspec": {
   "display_name": "Python 3 (ipykernel)",
   "language": "python",
   "name": "python3"
  },
  "language_info": {
   "codemirror_mode": {
    "name": "ipython",
    "version": 3
   },
   "file_extension": ".py",
   "mimetype": "text/x-python",
   "name": "python",
   "nbconvert_exporter": "python",
   "pygments_lexer": "ipython3",
   "version": "3.10.8"
  }
 },
 "nbformat": 4,
 "nbformat_minor": 5
}
