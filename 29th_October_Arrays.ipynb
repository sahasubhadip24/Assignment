{
 "cells": [
  {
   "cell_type": "markdown",
   "id": "a31ee6df-5abf-473d-a386-e3de901e6e0b",
   "metadata": {
    "jp-MarkdownHeadingCollapsed": true,
    "tags": []
   },
   "source": [
    "1. Given an array, check if it contains any duplicates or not. \n",
    "\n",
    "arr = [1, 2, 4, 2, 5, 9]\n",
    "\n",
    "Output = True"
   ]
  },
  {
   "cell_type": "code",
   "execution_count": 39,
   "id": "ada290d6-57be-40f3-9584-416e0acf0be3",
   "metadata": {},
   "outputs": [
    {
     "name": "stdout",
     "output_type": "stream",
     "text": [
      "True\n"
     ]
    }
   ],
   "source": [
    "def checkDuplicates(arr): # Creating a function to check duplicates in the array\n",
    "    sorted_arr = sorted(arr) # Sorting the array\n",
    "    for i in range(len(sorted_arr)-1):\n",
    "        if sorted_arr[i] == sorted_arr[i+1]: # Checking if there any duplicates are present or not\n",
    "            return True\n",
    "        \n",
    "arr = [1,2,4,2,5,9] # Creating an array\n",
    "result = checkDuplicates(arr) # Calling the function and storing the result\n",
    "print(result) # Printing the result"
   ]
  },
  {
   "cell_type": "markdown",
   "id": "78469932-8656-4efa-8b01-e66a32e064c8",
   "metadata": {},
   "source": [
    "2. Given an array and an integer k, rotate the array to the right by k steps. \n",
    "\n",
    "arr = [1, 2, 3, 4, 5, 6, 7], k = 3 \n",
    "\n",
    "Output = [5, 6, 7, 1, 2, 3, 4]"
   ]
  },
  {
   "cell_type": "code",
   "execution_count": 40,
   "id": "6d266c7f-47ce-439f-862b-62461e863bc4",
   "metadata": {},
   "outputs": [
    {
     "name": "stdout",
     "output_type": "stream",
     "text": [
      "[5, 6, 7, 1, 2, 3, 4]\n"
     ]
    }
   ],
   "source": [
    "def rotateArray(arr,k): # Creating a function to rotate the array\n",
    "    rotated_array = arr[k+1:] + arr[:k+1] # Rotating the array\n",
    "    return rotated_array\n",
    "\n",
    "arr = [1,2,3,4,5,6,7] # Creating an array\n",
    "k = 3 # Giving the value of k\n",
    "result = rotateArray(arr,k) # Calling the function and storing the result\n",
    "print(result) # Printing the result"
   ]
  },
  {
   "cell_type": "markdown",
   "id": "5c96533c-6259-4106-82f9-5b89e4818b1b",
   "metadata": {},
   "source": [
    "3. Reverse the given array in-place, means without using any extra data structure. \n",
    "\n",
    "arr = [2, 4, 5, 7, 9, 12] \n",
    "\n",
    "Output = [12, 9, 7, 5, 4, 2]"
   ]
  },
  {
   "cell_type": "code",
   "execution_count": 42,
   "id": "8e7ecd5a-0d47-4649-ac40-7ef53733a95f",
   "metadata": {},
   "outputs": [
    {
     "name": "stdout",
     "output_type": "stream",
     "text": [
      "[12, 9, 7, 5, 4, 2]\n"
     ]
    }
   ],
   "source": [
    "def reverseArray(arr): # Creating a function to reverse the array\n",
    "    return arr[::-1] # Reversing the array and returning it\n",
    "\n",
    "arr = [2,4,5,7,9,12] # Creating an array\n",
    "result = reverseArray(arr) # Calling the function and storing the result\n",
    "print(result) # Printing the result"
   ]
  },
  {
   "cell_type": "markdown",
   "id": "8601fd7f-d385-4d61-91cc-a23c5b7e4f64",
   "metadata": {},
   "source": [
    "4. Given an array of integers, find the maximum element in an array\n",
    "\n",
    " arr = [10, 5, 20, 8, 15]\n",
    "\n",
    " Output = 20"
   ]
  },
  {
   "cell_type": "code",
   "execution_count": 47,
   "id": "8cbe4481-9b6c-40e8-aedb-dfe8780e0dc4",
   "metadata": {},
   "outputs": [
    {
     "name": "stdout",
     "output_type": "stream",
     "text": [
      "20\n"
     ]
    }
   ],
   "source": [
    "def findMaxElement(arr): # Creating a function to find the maximum element in the array\n",
    "    sorted_arr = sorted(arr) # Sorting the array\n",
    "    return sorted_arr[-1] # Returning the last element(maximum element) of the array after sorting \n",
    "\n",
    "arr = [10,5,20,8,15] # Creating an array\n",
    "result = findMaxElement(arr) # Calling the function and storing the result\n",
    "print(result) # Printing the result"
   ]
  },
  {
   "cell_type": "markdown",
   "id": "00053ce8-2961-4dcb-8465-2bfa80775604",
   "metadata": {},
   "source": [
    "5. Given a sorted array, remove the duplicate element without using any extra data structure. \n",
    "\n",
    "arr = [1, 1, 2, 2, 2, 3, 3, 4, 4, 4, 5, 5] \n",
    "\n",
    "Output = [1, 2, 3, 4, 5]"
   ]
  },
  {
   "cell_type": "code",
   "execution_count": 24,
   "id": "2644ce39-0856-4e06-9139-6bf22874056f",
   "metadata": {},
   "outputs": [
    {
     "name": "stdout",
     "output_type": "stream",
     "text": [
      "[1, 2, 3, 4, 5]\n"
     ]
    }
   ],
   "source": [
    "def removeDuplicate(arr): # Creating a function to remove duplicate element\n",
    "    i = 0\n",
    "    while (i<len(arr)): # Running a while loop \n",
    "        j = i+1\n",
    "        while(j<len(arr) and arr[i] == arr[j]): # Running another while loop and also checking if two elements are same or not\n",
    "            arr.pop(j) # If two elements are same then poping the element of index j\n",
    "        i = j # Increasing the value of i \n",
    "    return arr # Returning the array\n",
    "\n",
    "arr = [1,1,2,2,2,3,3,4,4,4,5,5] # Creating an array\n",
    "result = removeDuplicate(arr) # Calling the function and storing the result\n",
    "print(result) # Printing the result"
   ]
  }
 ],
 "metadata": {
  "kernelspec": {
   "display_name": "Python 3 (ipykernel)",
   "language": "python",
   "name": "python3"
  },
  "language_info": {
   "codemirror_mode": {
    "name": "ipython",
    "version": 3
   },
   "file_extension": ".py",
   "mimetype": "text/x-python",
   "name": "python",
   "nbconvert_exporter": "python",
   "pygments_lexer": "ipython3",
   "version": "3.10.8"
  }
 },
 "nbformat": 4,
 "nbformat_minor": 5
}
